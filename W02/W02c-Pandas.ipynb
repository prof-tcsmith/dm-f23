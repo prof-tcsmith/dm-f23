{
 "cells": [
  {
   "cell_type": "markdown",
   "id": "d5636ead-6f7e-4cf3-a707-74266f17915d",
   "metadata": {},
   "source": [
    "# Pandas Introduction\n",
    "\n",
    "**Week02, Pandas Introduction**\n",
    "\n",
    "ISM6136\n",
    "\n",
    "&copy; 2023 Dr. Tim Smith\n",
    "\n",
    "\n",
    "<a target=\"_blank\" href=\"https://colab.research.google.com/github/prof-tcsmith/dm-f23/blob/main/W02/W02c-Pandas.ipynb#offline=1\">\n",
    "  <img src=\"https://colab.research.google.com/assets/colab-badge.svg\" alt=\"Open In Colab\"/>\n",
    "</a>\n",
    "\n",
    "---"
   ]
  },
  {
   "cell_type": "markdown",
   "id": "407a7bcb",
   "metadata": {},
   "source": [
    "## Introduction\n",
    "\n",
    "In this notebook we review the fundamentals of Pandas. We will cover the following topics:\n",
    "    \n",
    "1. Pandas Series\n",
    "2. Pandas DataFrames\n",
    "3. Data Selection\n",
    "4. Data Manipulation\n",
    "5. Looping over DataFrame\n",
    "6. Comparison Operators\n",
    "7. Demonstration of a sample of common Pandas methods\n"
   ]
  },
  {
   "cell_type": "code",
   "execution_count": null,
   "id": "982016d0",
   "metadata": {},
   "outputs": [],
   "source": [
    "# if running on colab, uncomment the following lines\n",
    "#!pip install matplotlib\n",
    "#!pip install numpy\n",
    "#!pip install pandas"
   ]
  },
  {
   "cell_type": "code",
   "execution_count": 273,
   "id": "d4948ef4",
   "metadata": {},
   "outputs": [],
   "source": [
    "# let's begin with our imports\n",
    "import pandas as pd\n",
    "import numpy as np\n",
    "import matplotlib.pyplot as plt"
   ]
  },
  {
   "cell_type": "markdown",
   "id": "e4a653ca",
   "metadata": {},
   "source": [
    "## 1.0 Pandas Series\n",
    "\n",
    "Pandas Series is a one-dimensional labeled array capable of holding any data type (integers, strings, floating point numbers, Python objects, etc.). The axis labels are collectively called index. You can think of a Pandas Series as similar to a column in an excel sheet."
   ]
  },
  {
   "cell_type": "code",
   "execution_count": 274,
   "id": "3de923f3",
   "metadata": {},
   "outputs": [
    {
     "name": "stdout",
     "output_type": "stream",
     "text": [
      "0    1.0\n",
      "1    3.0\n",
      "2    5.0\n",
      "3    NaN\n",
      "4    6.0\n",
      "5    8.0\n",
      "dtype: float64\n"
     ]
    }
   ],
   "source": [
    "# create a series from a list\n",
    "s = pd.Series([1, 3, 5, np.nan, 6, 8])\n",
    "print(s)"
   ]
  },
  {
   "cell_type": "code",
   "execution_count": 275,
   "id": "5ec48c4e",
   "metadata": {},
   "outputs": [
    {
     "name": "stdout",
     "output_type": "stream",
     "text": [
      "a    1.0\n",
      "b    3.0\n",
      "c    5.0\n",
      "d    NaN\n",
      "e    6.0\n",
      "f    8.0\n",
      "dtype: float64\n"
     ]
    }
   ],
   "source": [
    "# add an index to a series\n",
    "s = pd.Series([1, 3, 5, np.nan, 6, 8], index=['a', 'b', 'c', 'd', 'e', 'f'])\n",
    "print(s)"
   ]
  },
  {
   "cell_type": "code",
   "execution_count": 276,
   "id": "11c6c20b",
   "metadata": {},
   "outputs": [
    {
     "name": "stdout",
     "output_type": "stream",
     "text": [
      "a    0.0\n",
      "b    1.0\n",
      "c    2.0\n",
      "dtype: float64\n"
     ]
    }
   ],
   "source": [
    "# create a series from a dictionary\n",
    "d = {'a': 0., 'b': 1., 'c': 2.}\n",
    "s = pd.Series(d)\n",
    "print(s)"
   ]
  },
  {
   "cell_type": "code",
   "execution_count": 277,
   "id": "3682ef29",
   "metadata": {},
   "outputs": [
    {
     "name": "stdout",
     "output_type": "stream",
     "text": [
      "b    1.0\n",
      "c    2.0\n",
      "d    NaN\n",
      "a    0.0\n",
      "dtype: float64\n"
     ]
    }
   ],
   "source": [
    "# create a series from a dictionary with a different index\n",
    "s = pd.Series(d, index=['b', 'c', 'd', 'a'])\n",
    "print(s)"
   ]
  },
  {
   "cell_type": "code",
   "execution_count": 278,
   "id": "b718f3eb",
   "metadata": {},
   "outputs": [],
   "source": [
    "# create a series from a scalar\n",
    "s = pd.Series(5., index=['a', 'b', 'c', 'd', 'e'])"
   ]
  },
  {
   "cell_type": "code",
   "execution_count": 279,
   "id": "ae485ea5",
   "metadata": {},
   "outputs": [
    {
     "name": "stdout",
     "output_type": "stream",
     "text": [
      "a    0.127591\n",
      "b   -0.655786\n",
      "c    0.185745\n",
      "d   -0.414263\n",
      "e    0.094432\n",
      "dtype: float64\n"
     ]
    }
   ],
   "source": [
    "# create a series from a numpy array\n",
    "s = pd.Series(np.random.randn(5), index=['a', 'b', 'c', 'd', 'e'])\n",
    "print(s)"
   ]
  },
  {
   "cell_type": "code",
   "execution_count": 280,
   "id": "0bf095ef",
   "metadata": {},
   "outputs": [
    {
     "name": "stdout",
     "output_type": "stream",
     "text": [
      "a     0.127591\n",
      "b    -0.655786\n",
      "c     0.185745\n",
      "d    -0.414263\n",
      "e     0.094432\n",
      "g    10.000000\n",
      "dtype: float64\n"
     ]
    }
   ],
   "source": [
    "# add a new element to a series\n",
    "s['g'] = 10\n",
    "print(s)"
   ]
  },
  {
   "cell_type": "code",
   "execution_count": 281,
   "id": "407d6d3c",
   "metadata": {},
   "outputs": [
    {
     "name": "stdout",
     "output_type": "stream",
     "text": [
      "a    0.127591\n",
      "b   -0.655786\n",
      "c    0.185745\n",
      "d   -0.414263\n",
      "e    0.094432\n",
      "dtype: float64\n"
     ]
    }
   ],
   "source": [
    "# remove and element from a series\n",
    "s = s.drop('g')\n",
    "print(s)"
   ]
  },
  {
   "cell_type": "code",
   "execution_count": 282,
   "id": "da7de0bd",
   "metadata": {},
   "outputs": [
    {
     "name": "stdout",
     "output_type": "stream",
     "text": [
      "0.12759077197930593\n"
     ]
    }
   ],
   "source": [
    "# select an element from a series\n",
    "print(s['a'])"
   ]
  },
  {
   "cell_type": "code",
   "execution_count": 283,
   "id": "09841308",
   "metadata": {},
   "outputs": [
    {
     "name": "stdout",
     "output_type": "stream",
     "text": [
      "a    0.127591\n",
      "b   -0.655786\n",
      "c    0.185745\n",
      "dtype: float64\n"
     ]
    }
   ],
   "source": [
    "# select a range of elements from a series\n",
    "print(s['a':'c'])"
   ]
  },
  {
   "cell_type": "markdown",
   "id": "9581860d",
   "metadata": {},
   "source": [
    "## 2. Pandas DataFrames"
   ]
  },
  {
   "cell_type": "markdown",
   "id": "e3a8f779",
   "metadata": {},
   "source": [
    "Pandas dataframes are a very powerful tool for data analysis. They are built on top of numpy arrays and are very similar to R dataframes. Pandas dataframes are also very similar to SQL tables. Pandas dataframes are very useful for data manipulation and analysis. We will use pandas dataframes extensively in this course."
   ]
  },
  {
   "cell_type": "code",
   "execution_count": 284,
   "id": "7e201e18",
   "metadata": {},
   "outputs": [
    {
     "name": "stdout",
     "output_type": "stream",
     "text": [
      "   A  B\n",
      "0  1  4\n",
      "1  2  5\n",
      "2  3  6\n"
     ]
    }
   ],
   "source": [
    "# create a dataframe from a dictionary\n",
    "df = pd.DataFrame({'A': [1, 2, 3], 'B': [4, 5, 6]})\n",
    "print(df)"
   ]
  },
  {
   "cell_type": "code",
   "execution_count": 285,
   "id": "6aab5839",
   "metadata": {},
   "outputs": [
    {
     "name": "stdout",
     "output_type": "stream",
     "text": [
      "   A  B  C\n",
      "0  1  2  3\n",
      "1  4  5  6\n"
     ]
    }
   ],
   "source": [
    "# create a dataframe from a list of lists\n",
    "df = pd.DataFrame([[1, 2, 3], [4, 5, 6]], columns=['A', 'B', 'C'])\n",
    "print(df)"
   ]
  },
  {
   "cell_type": "code",
   "execution_count": 286,
   "id": "f04209be",
   "metadata": {},
   "outputs": [
    {
     "name": "stdout",
     "output_type": "stream",
     "text": [
      "   A  B\n",
      "0  1  2\n",
      "1  3  4\n"
     ]
    }
   ],
   "source": [
    "# create a dataframe from a list of dictionaries\n",
    "df = pd.DataFrame([{'A': 1, 'B': 2}, {'A': 3, 'B': 4}])\n",
    "print(df)"
   ]
  },
  {
   "cell_type": "code",
   "execution_count": 287,
   "id": "e0180fc1",
   "metadata": {},
   "outputs": [
    {
     "name": "stdout",
     "output_type": "stream",
     "text": [
      "          A         B\n",
      "0  0.713841  0.875272\n",
      "1  0.004488  0.619932\n",
      "2  0.491812  0.372714\n"
     ]
    }
   ],
   "source": [
    "# create a dataframe from a numpy array\n",
    "df = pd.DataFrame(np.random.rand(3, 2), columns=['A', 'B'])\n",
    "print(df)"
   ]
  },
  {
   "cell_type": "code",
   "execution_count": 288,
   "id": "50487d46",
   "metadata": {},
   "outputs": [
    {
     "name": "stdout",
     "output_type": "stream",
     "text": [
      "   A  B\n",
      "0  1  4\n",
      "1  2  5\n",
      "2  3  6\n"
     ]
    }
   ],
   "source": [
    "# create a dataframe from a series\n",
    "df = pd.DataFrame({'A': pd.Series([1, 2, 3]), 'B': pd.Series([4, 5, 6])})\n",
    "print(df)"
   ]
  },
  {
   "cell_type": "code",
   "execution_count": 289,
   "id": "49ef4bb5",
   "metadata": {},
   "outputs": [
    {
     "name": "stdout",
     "output_type": "stream",
     "text": [
      "   A  B\n",
      "0  1  4\n",
      "1  2  5\n",
      "2  3  6\n"
     ]
    }
   ],
   "source": [
    "# create a dataframe from a series with a name\n",
    "df = pd.DataFrame({'A': pd.Series([1, 2, 3], name='foo'), 'B': pd.Series([4, 5, 6], name='bar')})\n",
    "print(df)"
   ]
  },
  {
   "cell_type": "code",
   "execution_count": 290,
   "id": "816912ba",
   "metadata": {},
   "outputs": [
    {
     "name": "stdout",
     "output_type": "stream",
     "text": [
      "    A   B\n",
      "a NaN NaN\n",
      "b NaN NaN\n",
      "c NaN NaN\n"
     ]
    }
   ],
   "source": [
    "# create a dataframe from a series with a name and an index\n",
    "df = pd.DataFrame({'A': pd.Series([1, 2, 3], name='foo'), 'B': pd.Series([4, 5, 6], name='bar')}, index=['a', 'b', 'c'])\n",
    "print(df)"
   ]
  },
  {
   "cell_type": "code",
   "execution_count": 291,
   "id": "6a28f8c5",
   "metadata": {},
   "outputs": [],
   "source": [
    "# save a dataframe to a csv file\n",
    "df.to_csv('data.csv')"
   ]
  },
  {
   "cell_type": "code",
   "execution_count": 292,
   "id": "93d5c066",
   "metadata": {},
   "outputs": [
    {
     "name": "stdout",
     "output_type": "stream",
     "text": [
      "    A   B\n",
      "a NaN NaN\n",
      "b NaN NaN\n",
      "c NaN NaN\n"
     ]
    }
   ],
   "source": [
    "# create a dataframe from a csv file\n",
    "df2 = pd.read_csv('data.csv')\n",
    "print(df)"
   ]
  },
  {
   "cell_type": "markdown",
   "id": "a7e861ff",
   "metadata": {},
   "source": []
  },
  {
   "cell_type": "markdown",
   "id": "9f8e72c7",
   "metadata": {},
   "source": [
    "## 3.0 Data Selection in DataFrames"
   ]
  },
  {
   "cell_type": "code",
   "execution_count": 293,
   "id": "beec0e96",
   "metadata": {},
   "outputs": [
    {
     "name": "stdout",
     "output_type": "stream",
     "text": [
      "             name  age  preTestScore  postTestScore\n",
      "Cochice     Jason   42             4             25\n",
      "Pima        Molly   52            24             94\n",
      "Santa Cruz   Tina   36            31             57\n",
      "Maricopa     Jake   24             2             62\n",
      "Yuma          Amy   73             3             70\n"
     ]
    }
   ],
   "source": [
    "# let's begin by create a dataframe to use to demonstrate some of the pandas functionality\n",
    "data = {'name': ['Jason', 'Molly', 'Tina', 'Jake', 'Amy'],\n",
    "        'age': [42, 52, 36, 24, 73],\n",
    "        'preTestScore': [4, 24, 31, 2, 3],\n",
    "        'postTestScore': [25, 94, 57, 62, 70]}\n",
    "df = pd.DataFrame(data, columns = ['name', 'age', 'preTestScore', 'postTestScore'], index=['Cochice', 'Pima', 'Santa Cruz', 'Maricopa', 'Yuma'])\n",
    "print(df)"
   ]
  },
  {
   "cell_type": "markdown",
   "id": "6b6cd630",
   "metadata": {},
   "source": [
    "### 3.1 Using loc\n",
    "\n",
    "The loc method is used to access data in a DataFrame using labels. You can use it to select rows and columns based on their labels. Here is an example:"
   ]
  },
  {
   "cell_type": "code",
   "execution_count": 294,
   "id": "0bdcb222",
   "metadata": {},
   "outputs": [
    {
     "data": {
      "text/plain": [
       "name             Molly\n",
       "age                 52\n",
       "preTestScore        24\n",
       "postTestScore       94\n",
       "Name: Pima, dtype: object"
      ]
     },
     "execution_count": 294,
     "metadata": {},
     "output_type": "execute_result"
    }
   ],
   "source": [
    "df.loc['Pima'] # select a single row"
   ]
  },
  {
   "cell_type": "code",
   "execution_count": 295,
   "id": "63566888",
   "metadata": {},
   "outputs": [
    {
     "data": {
      "text/plain": [
       "Cochice       42\n",
       "Pima          52\n",
       "Santa Cruz    36\n",
       "Maricopa      24\n",
       "Yuma          73\n",
       "Name: age, dtype: int64"
      ]
     },
     "execution_count": 295,
     "metadata": {},
     "output_type": "execute_result"
    }
   ],
   "source": [
    "df.loc[ : ,'age'] # select a single column"
   ]
  },
  {
   "cell_type": "code",
   "execution_count": 296,
   "id": "d01c25bd",
   "metadata": {},
   "outputs": [
    {
     "data": {
      "text/html": [
       "<div>\n",
       "<style scoped>\n",
       "    .dataframe tbody tr th:only-of-type {\n",
       "        vertical-align: middle;\n",
       "    }\n",
       "\n",
       "    .dataframe tbody tr th {\n",
       "        vertical-align: top;\n",
       "    }\n",
       "\n",
       "    .dataframe thead th {\n",
       "        text-align: right;\n",
       "    }\n",
       "</style>\n",
       "<table border=\"1\" class=\"dataframe\">\n",
       "  <thead>\n",
       "    <tr style=\"text-align: right;\">\n",
       "      <th></th>\n",
       "      <th>name</th>\n",
       "      <th>age</th>\n",
       "      <th>preTestScore</th>\n",
       "      <th>postTestScore</th>\n",
       "    </tr>\n",
       "  </thead>\n",
       "  <tbody>\n",
       "    <tr>\n",
       "      <th>Pima</th>\n",
       "      <td>Molly</td>\n",
       "      <td>52</td>\n",
       "      <td>24</td>\n",
       "      <td>94</td>\n",
       "    </tr>\n",
       "    <tr>\n",
       "      <th>Santa Cruz</th>\n",
       "      <td>Tina</td>\n",
       "      <td>36</td>\n",
       "      <td>31</td>\n",
       "      <td>57</td>\n",
       "    </tr>\n",
       "    <tr>\n",
       "      <th>Maricopa</th>\n",
       "      <td>Jake</td>\n",
       "      <td>24</td>\n",
       "      <td>2</td>\n",
       "      <td>62</td>\n",
       "    </tr>\n",
       "    <tr>\n",
       "      <th>Yuma</th>\n",
       "      <td>Amy</td>\n",
       "      <td>73</td>\n",
       "      <td>3</td>\n",
       "      <td>70</td>\n",
       "    </tr>\n",
       "  </tbody>\n",
       "</table>\n",
       "</div>"
      ],
      "text/plain": [
       "             name  age  preTestScore  postTestScore\n",
       "Pima        Molly   52            24             94\n",
       "Santa Cruz   Tina   36            31             57\n",
       "Maricopa     Jake   24             2             62\n",
       "Yuma          Amy   73             3             70"
      ]
     },
     "execution_count": 296,
     "metadata": {},
     "output_type": "execute_result"
    }
   ],
   "source": [
    "df.loc['Pima': 'Yuma'] # select multiple continous rows"
   ]
  },
  {
   "cell_type": "code",
   "execution_count": 297,
   "id": "a3db64de",
   "metadata": {},
   "outputs": [
    {
     "data": {
      "text/html": [
       "<div>\n",
       "<style scoped>\n",
       "    .dataframe tbody tr th:only-of-type {\n",
       "        vertical-align: middle;\n",
       "    }\n",
       "\n",
       "    .dataframe tbody tr th {\n",
       "        vertical-align: top;\n",
       "    }\n",
       "\n",
       "    .dataframe thead th {\n",
       "        text-align: right;\n",
       "    }\n",
       "</style>\n",
       "<table border=\"1\" class=\"dataframe\">\n",
       "  <thead>\n",
       "    <tr style=\"text-align: right;\">\n",
       "      <th></th>\n",
       "      <th>age</th>\n",
       "      <th>name</th>\n",
       "    </tr>\n",
       "  </thead>\n",
       "  <tbody>\n",
       "    <tr>\n",
       "      <th>Pima</th>\n",
       "      <td>52</td>\n",
       "      <td>Molly</td>\n",
       "    </tr>\n",
       "    <tr>\n",
       "      <th>Yuma</th>\n",
       "      <td>73</td>\n",
       "      <td>Amy</td>\n",
       "    </tr>\n",
       "    <tr>\n",
       "      <th>Santa Cruz</th>\n",
       "      <td>36</td>\n",
       "      <td>Tina</td>\n",
       "    </tr>\n",
       "  </tbody>\n",
       "</table>\n",
       "</div>"
      ],
      "text/plain": [
       "            age   name\n",
       "Pima         52  Molly\n",
       "Yuma         73    Amy\n",
       "Santa Cruz   36   Tina"
      ]
     },
     "execution_count": 297,
     "metadata": {},
     "output_type": "execute_result"
    }
   ],
   "source": [
    "# selection multiple discontinuous rows and columns\n",
    "df.loc[['Pima', 'Yuma', 'Santa Cruz'], ['age', 'name']]"
   ]
  },
  {
   "cell_type": "markdown",
   "id": "aeff5358",
   "metadata": {},
   "source": [
    "### 3.2 Using iloc\n",
    "\n",
    "The iloc method is used to access data in a DataFrame using integer indexes. You can use it to select rows and columns based on their integer positions. Here is an example:"
   ]
  },
  {
   "cell_type": "code",
   "execution_count": 298,
   "id": "1d8a797b",
   "metadata": {},
   "outputs": [
    {
     "data": {
      "text/plain": [
       "name             Jason\n",
       "age                 42\n",
       "preTestScore         4\n",
       "postTestScore       25\n",
       "Name: Cochice, dtype: object"
      ]
     },
     "execution_count": 298,
     "metadata": {},
     "output_type": "execute_result"
    }
   ],
   "source": [
    "# select one row using iloc\n",
    "\n",
    "df.iloc[0]"
   ]
  },
  {
   "cell_type": "code",
   "execution_count": 299,
   "id": "13763389",
   "metadata": {},
   "outputs": [
    {
     "data": {
      "text/html": [
       "<div>\n",
       "<style scoped>\n",
       "    .dataframe tbody tr th:only-of-type {\n",
       "        vertical-align: middle;\n",
       "    }\n",
       "\n",
       "    .dataframe tbody tr th {\n",
       "        vertical-align: top;\n",
       "    }\n",
       "\n",
       "    .dataframe thead th {\n",
       "        text-align: right;\n",
       "    }\n",
       "</style>\n",
       "<table border=\"1\" class=\"dataframe\">\n",
       "  <thead>\n",
       "    <tr style=\"text-align: right;\">\n",
       "      <th></th>\n",
       "      <th>name</th>\n",
       "      <th>age</th>\n",
       "      <th>preTestScore</th>\n",
       "      <th>postTestScore</th>\n",
       "    </tr>\n",
       "  </thead>\n",
       "  <tbody>\n",
       "    <tr>\n",
       "      <th>Cochice</th>\n",
       "      <td>Jason</td>\n",
       "      <td>42</td>\n",
       "      <td>4</td>\n",
       "      <td>25</td>\n",
       "    </tr>\n",
       "    <tr>\n",
       "      <th>Pima</th>\n",
       "      <td>Molly</td>\n",
       "      <td>52</td>\n",
       "      <td>24</td>\n",
       "      <td>94</td>\n",
       "    </tr>\n",
       "    <tr>\n",
       "      <th>Santa Cruz</th>\n",
       "      <td>Tina</td>\n",
       "      <td>36</td>\n",
       "      <td>31</td>\n",
       "      <td>57</td>\n",
       "    </tr>\n",
       "  </tbody>\n",
       "</table>\n",
       "</div>"
      ],
      "text/plain": [
       "             name  age  preTestScore  postTestScore\n",
       "Cochice     Jason   42             4             25\n",
       "Pima        Molly   52            24             94\n",
       "Santa Cruz   Tina   36            31             57"
      ]
     },
     "execution_count": 299,
     "metadata": {},
     "output_type": "execute_result"
    }
   ],
   "source": [
    "# select multiple contingous rows \n",
    "\n",
    "df.iloc[0:3]"
   ]
  },
  {
   "cell_type": "code",
   "execution_count": 300,
   "id": "f9924275",
   "metadata": {},
   "outputs": [
    {
     "data": {
      "text/plain": [
       "Cochice       Jason\n",
       "Pima          Molly\n",
       "Santa Cruz     Tina\n",
       "Maricopa       Jake\n",
       "Yuma            Amy\n",
       "Name: name, dtype: object"
      ]
     },
     "execution_count": 300,
     "metadata": {},
     "output_type": "execute_result"
    }
   ],
   "source": [
    "# select a column\n",
    "df.loc[:, 'name']"
   ]
  },
  {
   "cell_type": "code",
   "execution_count": 301,
   "id": "03b946f4",
   "metadata": {},
   "outputs": [
    {
     "data": {
      "text/html": [
       "<div>\n",
       "<style scoped>\n",
       "    .dataframe tbody tr th:only-of-type {\n",
       "        vertical-align: middle;\n",
       "    }\n",
       "\n",
       "    .dataframe tbody tr th {\n",
       "        vertical-align: top;\n",
       "    }\n",
       "\n",
       "    .dataframe thead th {\n",
       "        text-align: right;\n",
       "    }\n",
       "</style>\n",
       "<table border=\"1\" class=\"dataframe\">\n",
       "  <thead>\n",
       "    <tr style=\"text-align: right;\">\n",
       "      <th></th>\n",
       "      <th>name</th>\n",
       "      <th>age</th>\n",
       "    </tr>\n",
       "  </thead>\n",
       "  <tbody>\n",
       "    <tr>\n",
       "      <th>Cochice</th>\n",
       "      <td>Jason</td>\n",
       "      <td>42</td>\n",
       "    </tr>\n",
       "    <tr>\n",
       "      <th>Pima</th>\n",
       "      <td>Molly</td>\n",
       "      <td>52</td>\n",
       "    </tr>\n",
       "    <tr>\n",
       "      <th>Santa Cruz</th>\n",
       "      <td>Tina</td>\n",
       "      <td>36</td>\n",
       "    </tr>\n",
       "  </tbody>\n",
       "</table>\n",
       "</div>"
      ],
      "text/plain": [
       "             name  age\n",
       "Cochice     Jason   42\n",
       "Pima        Molly   52\n",
       "Santa Cruz   Tina   36"
      ]
     },
     "execution_count": 301,
     "metadata": {},
     "output_type": "execute_result"
    }
   ],
   "source": [
    "# select multiple rows and columns using iloc\n",
    "df.iloc[0:3, 0:2]"
   ]
  },
  {
   "cell_type": "code",
   "execution_count": 302,
   "id": "676d6698",
   "metadata": {},
   "outputs": [
    {
     "data": {
      "text/html": [
       "<div>\n",
       "<style scoped>\n",
       "    .dataframe tbody tr th:only-of-type {\n",
       "        vertical-align: middle;\n",
       "    }\n",
       "\n",
       "    .dataframe tbody tr th {\n",
       "        vertical-align: top;\n",
       "    }\n",
       "\n",
       "    .dataframe thead th {\n",
       "        text-align: right;\n",
       "    }\n",
       "</style>\n",
       "<table border=\"1\" class=\"dataframe\">\n",
       "  <thead>\n",
       "    <tr style=\"text-align: right;\">\n",
       "      <th></th>\n",
       "      <th>age</th>\n",
       "      <th>preTestScore</th>\n",
       "    </tr>\n",
       "  </thead>\n",
       "  <tbody>\n",
       "    <tr>\n",
       "      <th>Cochice</th>\n",
       "      <td>42</td>\n",
       "      <td>4</td>\n",
       "    </tr>\n",
       "    <tr>\n",
       "      <th>Santa Cruz</th>\n",
       "      <td>36</td>\n",
       "      <td>31</td>\n",
       "    </tr>\n",
       "    <tr>\n",
       "      <th>Maricopa</th>\n",
       "      <td>24</td>\n",
       "      <td>2</td>\n",
       "    </tr>\n",
       "  </tbody>\n",
       "</table>\n",
       "</div>"
      ],
      "text/plain": [
       "            age  preTestScore\n",
       "Cochice      42             4\n",
       "Santa Cruz   36            31\n",
       "Maricopa     24             2"
      ]
     },
     "execution_count": 302,
     "metadata": {},
     "output_type": "execute_result"
    }
   ],
   "source": [
    "# select multiple discontinuous rows and columns\n",
    "df.iloc[[0, 2, 3], [1, 2]]"
   ]
  },
  {
   "cell_type": "markdown",
   "id": "f42745ca",
   "metadata": {},
   "source": [
    "## 4 Data Manipulation with Pandas"
   ]
  },
  {
   "cell_type": "code",
   "execution_count": 303,
   "id": "c30c8085",
   "metadata": {},
   "outputs": [
    {
     "data": {
      "text/html": [
       "<div>\n",
       "<style scoped>\n",
       "    .dataframe tbody tr th:only-of-type {\n",
       "        vertical-align: middle;\n",
       "    }\n",
       "\n",
       "    .dataframe tbody tr th {\n",
       "        vertical-align: top;\n",
       "    }\n",
       "\n",
       "    .dataframe thead th {\n",
       "        text-align: right;\n",
       "    }\n",
       "</style>\n",
       "<table border=\"1\" class=\"dataframe\">\n",
       "  <thead>\n",
       "    <tr style=\"text-align: right;\">\n",
       "      <th></th>\n",
       "      <th>name</th>\n",
       "      <th>age</th>\n",
       "      <th>preTestScore</th>\n",
       "      <th>postTestScore</th>\n",
       "    </tr>\n",
       "  </thead>\n",
       "  <tbody>\n",
       "    <tr>\n",
       "      <th>Cochice</th>\n",
       "      <td>Jason</td>\n",
       "      <td>42</td>\n",
       "      <td>4</td>\n",
       "      <td>25</td>\n",
       "    </tr>\n",
       "    <tr>\n",
       "      <th>Pima</th>\n",
       "      <td>Molly</td>\n",
       "      <td>52</td>\n",
       "      <td>55</td>\n",
       "      <td>94</td>\n",
       "    </tr>\n",
       "    <tr>\n",
       "      <th>Santa Cruz</th>\n",
       "      <td>Tina</td>\n",
       "      <td>36</td>\n",
       "      <td>31</td>\n",
       "      <td>57</td>\n",
       "    </tr>\n",
       "    <tr>\n",
       "      <th>Maricopa</th>\n",
       "      <td>Jake</td>\n",
       "      <td>24</td>\n",
       "      <td>2</td>\n",
       "      <td>62</td>\n",
       "    </tr>\n",
       "    <tr>\n",
       "      <th>Yuma</th>\n",
       "      <td>Amy</td>\n",
       "      <td>73</td>\n",
       "      <td>3</td>\n",
       "      <td>70</td>\n",
       "    </tr>\n",
       "  </tbody>\n",
       "</table>\n",
       "</div>"
      ],
      "text/plain": [
       "             name  age  preTestScore  postTestScore\n",
       "Cochice     Jason   42             4             25\n",
       "Pima        Molly   52            55             94\n",
       "Santa Cruz   Tina   36            31             57\n",
       "Maricopa     Jake   24             2             62\n",
       "Yuma          Amy   73             3             70"
      ]
     },
     "execution_count": 303,
     "metadata": {},
     "output_type": "execute_result"
    }
   ],
   "source": [
    "df.iloc[1, 2] = 55 # change the value in the 2nd row and 3rd column\n",
    "df"
   ]
  },
  {
   "cell_type": "code",
   "execution_count": 304,
   "id": "8e4c3e3e",
   "metadata": {},
   "outputs": [
    {
     "data": {
      "text/html": [
       "<div>\n",
       "<style scoped>\n",
       "    .dataframe tbody tr th:only-of-type {\n",
       "        vertical-align: middle;\n",
       "    }\n",
       "\n",
       "    .dataframe tbody tr th {\n",
       "        vertical-align: top;\n",
       "    }\n",
       "\n",
       "    .dataframe thead th {\n",
       "        text-align: right;\n",
       "    }\n",
       "</style>\n",
       "<table border=\"1\" class=\"dataframe\">\n",
       "  <thead>\n",
       "    <tr style=\"text-align: right;\">\n",
       "      <th></th>\n",
       "      <th>name</th>\n",
       "      <th>age</th>\n",
       "      <th>preTestScore</th>\n",
       "      <th>postTestScore</th>\n",
       "    </tr>\n",
       "  </thead>\n",
       "  <tbody>\n",
       "    <tr>\n",
       "      <th>Cochice</th>\n",
       "      <td>Jason</td>\n",
       "      <td>42</td>\n",
       "      <td>4</td>\n",
       "      <td>25</td>\n",
       "    </tr>\n",
       "    <tr>\n",
       "      <th>Pima</th>\n",
       "      <td>Molly</td>\n",
       "      <td>200</td>\n",
       "      <td>55</td>\n",
       "      <td>94</td>\n",
       "    </tr>\n",
       "    <tr>\n",
       "      <th>Santa Cruz</th>\n",
       "      <td>Tina</td>\n",
       "      <td>200</td>\n",
       "      <td>31</td>\n",
       "      <td>57</td>\n",
       "    </tr>\n",
       "    <tr>\n",
       "      <th>Maricopa</th>\n",
       "      <td>Jake</td>\n",
       "      <td>24</td>\n",
       "      <td>2</td>\n",
       "      <td>62</td>\n",
       "    </tr>\n",
       "    <tr>\n",
       "      <th>Yuma</th>\n",
       "      <td>Amy</td>\n",
       "      <td>73</td>\n",
       "      <td>3</td>\n",
       "      <td>70</td>\n",
       "    </tr>\n",
       "  </tbody>\n",
       "</table>\n",
       "</div>"
      ],
      "text/plain": [
       "             name  age  preTestScore  postTestScore\n",
       "Cochice     Jason   42             4             25\n",
       "Pima        Molly  200            55             94\n",
       "Santa Cruz   Tina  200            31             57\n",
       "Maricopa     Jake   24             2             62\n",
       "Yuma          Amy   73             3             70"
      ]
     },
     "execution_count": 304,
     "metadata": {},
     "output_type": "execute_result"
    }
   ],
   "source": [
    "df.iloc[1:3,1] = 200\n",
    "df"
   ]
  },
  {
   "cell_type": "code",
   "execution_count": 305,
   "id": "5a34241d",
   "metadata": {},
   "outputs": [
    {
     "data": {
      "text/html": [
       "<div>\n",
       "<style scoped>\n",
       "    .dataframe tbody tr th:only-of-type {\n",
       "        vertical-align: middle;\n",
       "    }\n",
       "\n",
       "    .dataframe tbody tr th {\n",
       "        vertical-align: top;\n",
       "    }\n",
       "\n",
       "    .dataframe thead th {\n",
       "        text-align: right;\n",
       "    }\n",
       "</style>\n",
       "<table border=\"1\" class=\"dataframe\">\n",
       "  <thead>\n",
       "    <tr style=\"text-align: right;\">\n",
       "      <th></th>\n",
       "      <th>name</th>\n",
       "      <th>age</th>\n",
       "      <th>preTestScore</th>\n",
       "      <th>postTestScore</th>\n",
       "    </tr>\n",
       "  </thead>\n",
       "  <tbody>\n",
       "    <tr>\n",
       "      <th>Cochice</th>\n",
       "      <td>Jason</td>\n",
       "      <td>42</td>\n",
       "      <td>4</td>\n",
       "      <td>25</td>\n",
       "    </tr>\n",
       "    <tr>\n",
       "      <th>Pima</th>\n",
       "      <td>Molly</td>\n",
       "      <td>333</td>\n",
       "      <td>55</td>\n",
       "      <td>94</td>\n",
       "    </tr>\n",
       "    <tr>\n",
       "      <th>Santa Cruz</th>\n",
       "      <td>Tina</td>\n",
       "      <td>200</td>\n",
       "      <td>31</td>\n",
       "      <td>57</td>\n",
       "    </tr>\n",
       "    <tr>\n",
       "      <th>Maricopa</th>\n",
       "      <td>Jake</td>\n",
       "      <td>24</td>\n",
       "      <td>2</td>\n",
       "      <td>62</td>\n",
       "    </tr>\n",
       "    <tr>\n",
       "      <th>Yuma</th>\n",
       "      <td>Amy</td>\n",
       "      <td>73</td>\n",
       "      <td>3</td>\n",
       "      <td>70</td>\n",
       "    </tr>\n",
       "  </tbody>\n",
       "</table>\n",
       "</div>"
      ],
      "text/plain": [
       "             name  age  preTestScore  postTestScore\n",
       "Cochice     Jason   42             4             25\n",
       "Pima        Molly  333            55             94\n",
       "Santa Cruz   Tina  200            31             57\n",
       "Maricopa     Jake   24             2             62\n",
       "Yuma          Amy   73             3             70"
      ]
     },
     "execution_count": 305,
     "metadata": {},
     "output_type": "execute_result"
    }
   ],
   "source": [
    "df.loc['Pima', 'age'] = 333\n",
    "df"
   ]
  },
  {
   "cell_type": "code",
   "execution_count": 306,
   "id": "1f6d310b",
   "metadata": {},
   "outputs": [
    {
     "data": {
      "text/html": [
       "<div>\n",
       "<style scoped>\n",
       "    .dataframe tbody tr th:only-of-type {\n",
       "        vertical-align: middle;\n",
       "    }\n",
       "\n",
       "    .dataframe tbody tr th {\n",
       "        vertical-align: top;\n",
       "    }\n",
       "\n",
       "    .dataframe thead th {\n",
       "        text-align: right;\n",
       "    }\n",
       "</style>\n",
       "<table border=\"1\" class=\"dataframe\">\n",
       "  <thead>\n",
       "    <tr style=\"text-align: right;\">\n",
       "      <th></th>\n",
       "      <th>name</th>\n",
       "      <th>age</th>\n",
       "      <th>preTestScore</th>\n",
       "      <th>postTestScore</th>\n",
       "      <th>age-squared</th>\n",
       "    </tr>\n",
       "  </thead>\n",
       "  <tbody>\n",
       "    <tr>\n",
       "      <th>Cochice</th>\n",
       "      <td>Jason</td>\n",
       "      <td>42</td>\n",
       "      <td>4</td>\n",
       "      <td>25</td>\n",
       "      <td>1764</td>\n",
       "    </tr>\n",
       "    <tr>\n",
       "      <th>Pima</th>\n",
       "      <td>Molly</td>\n",
       "      <td>333</td>\n",
       "      <td>55</td>\n",
       "      <td>94</td>\n",
       "      <td>110889</td>\n",
       "    </tr>\n",
       "    <tr>\n",
       "      <th>Santa Cruz</th>\n",
       "      <td>Tina</td>\n",
       "      <td>200</td>\n",
       "      <td>31</td>\n",
       "      <td>57</td>\n",
       "      <td>40000</td>\n",
       "    </tr>\n",
       "    <tr>\n",
       "      <th>Maricopa</th>\n",
       "      <td>Jake</td>\n",
       "      <td>24</td>\n",
       "      <td>2</td>\n",
       "      <td>62</td>\n",
       "      <td>576</td>\n",
       "    </tr>\n",
       "    <tr>\n",
       "      <th>Yuma</th>\n",
       "      <td>Amy</td>\n",
       "      <td>73</td>\n",
       "      <td>3</td>\n",
       "      <td>70</td>\n",
       "      <td>5329</td>\n",
       "    </tr>\n",
       "  </tbody>\n",
       "</table>\n",
       "</div>"
      ],
      "text/plain": [
       "             name  age  preTestScore  postTestScore  age-squared\n",
       "Cochice     Jason   42             4             25         1764\n",
       "Pima        Molly  333            55             94       110889\n",
       "Santa Cruz   Tina  200            31             57        40000\n",
       "Maricopa     Jake   24             2             62          576\n",
       "Yuma          Amy   73             3             70         5329"
      ]
     },
     "execution_count": 306,
     "metadata": {},
     "output_type": "execute_result"
    }
   ],
   "source": [
    "df['age-squared'] = df['age'] ** 2\n",
    "df"
   ]
  },
  {
   "cell_type": "code",
   "execution_count": 307,
   "id": "04a00b42",
   "metadata": {},
   "outputs": [
    {
     "data": {
      "text/html": [
       "<div>\n",
       "<style scoped>\n",
       "    .dataframe tbody tr th:only-of-type {\n",
       "        vertical-align: middle;\n",
       "    }\n",
       "\n",
       "    .dataframe tbody tr th {\n",
       "        vertical-align: top;\n",
       "    }\n",
       "\n",
       "    .dataframe thead th {\n",
       "        text-align: right;\n",
       "    }\n",
       "</style>\n",
       "<table border=\"1\" class=\"dataframe\">\n",
       "  <thead>\n",
       "    <tr style=\"text-align: right;\">\n",
       "      <th></th>\n",
       "      <th>name</th>\n",
       "      <th>age</th>\n",
       "      <th>preTestScore</th>\n",
       "      <th>postTestScore</th>\n",
       "    </tr>\n",
       "  </thead>\n",
       "  <tbody>\n",
       "    <tr>\n",
       "      <th>Cochice</th>\n",
       "      <td>Jason</td>\n",
       "      <td>42</td>\n",
       "      <td>4</td>\n",
       "      <td>25</td>\n",
       "    </tr>\n",
       "    <tr>\n",
       "      <th>Pima</th>\n",
       "      <td>Molly</td>\n",
       "      <td>333</td>\n",
       "      <td>55</td>\n",
       "      <td>94</td>\n",
       "    </tr>\n",
       "    <tr>\n",
       "      <th>Santa Cruz</th>\n",
       "      <td>Tina</td>\n",
       "      <td>200</td>\n",
       "      <td>31</td>\n",
       "      <td>57</td>\n",
       "    </tr>\n",
       "    <tr>\n",
       "      <th>Maricopa</th>\n",
       "      <td>Jake</td>\n",
       "      <td>24</td>\n",
       "      <td>2</td>\n",
       "      <td>62</td>\n",
       "    </tr>\n",
       "    <tr>\n",
       "      <th>Yuma</th>\n",
       "      <td>Amy</td>\n",
       "      <td>73</td>\n",
       "      <td>3</td>\n",
       "      <td>70</td>\n",
       "    </tr>\n",
       "  </tbody>\n",
       "</table>\n",
       "</div>"
      ],
      "text/plain": [
       "             name  age  preTestScore  postTestScore\n",
       "Cochice     Jason   42             4             25\n",
       "Pima        Molly  333            55             94\n",
       "Santa Cruz   Tina  200            31             57\n",
       "Maricopa     Jake   24             2             62\n",
       "Yuma          Amy   73             3             70"
      ]
     },
     "execution_count": 307,
     "metadata": {},
     "output_type": "execute_result"
    }
   ],
   "source": [
    "df.drop('age-squared', axis=1, inplace=True)\n",
    "df"
   ]
  },
  {
   "cell_type": "markdown",
   "id": "1836cd87",
   "metadata": {},
   "source": [
    "## 5 Loop over Pandas Dataframe\n"
   ]
  },
  {
   "cell_type": "markdown",
   "id": "4a7ea5a7",
   "metadata": {},
   "source": [
    "You will often find that you need to loop over a the data in a dataframe and do something with it. For example, you may need to loop over the rows in a dataframe and do something with the data in each row. There are several ways to do this. We will cover two ways to loop over a dataframe in this notebook. The first is using a for loop, and the second is using the apply method."
   ]
  },
  {
   "cell_type": "markdown",
   "id": "9d75b786",
   "metadata": {},
   "source": [
    "### 5.1 For Loops & DataFrames"
   ]
  },
  {
   "cell_type": "code",
   "execution_count": 308,
   "id": "7f133e8b",
   "metadata": {},
   "outputs": [
    {
     "name": "stdout",
     "output_type": "stream",
     "text": [
      "name\n",
      "age\n",
      "preTestScore\n",
      "postTestScore\n"
     ]
    }
   ],
   "source": [
    "for something in df:\n",
    "    print(something)"
   ]
  },
  {
   "cell_type": "code",
   "execution_count": 309,
   "id": "379825c9",
   "metadata": {},
   "outputs": [
    {
     "name": "stdout",
     "output_type": "stream",
     "text": [
      "('Cochice', name             Jason\n",
      "age                 42\n",
      "preTestScore         4\n",
      "postTestScore       25\n",
      "Name: Cochice, dtype: object)\n",
      "('Pima', name             Molly\n",
      "age                333\n",
      "preTestScore        55\n",
      "postTestScore       94\n",
      "Name: Pima, dtype: object)\n",
      "('Santa Cruz', name             Tina\n",
      "age               200\n",
      "preTestScore       31\n",
      "postTestScore      57\n",
      "Name: Santa Cruz, dtype: object)\n",
      "('Maricopa', name             Jake\n",
      "age                24\n",
      "preTestScore        2\n",
      "postTestScore      62\n",
      "Name: Maricopa, dtype: object)\n",
      "('Yuma', name             Amy\n",
      "age               73\n",
      "preTestScore       3\n",
      "postTestScore     70\n",
      "Name: Yuma, dtype: object)\n"
     ]
    }
   ],
   "source": [
    "for something in df.iterrows():\n",
    "    print(something)"
   ]
  },
  {
   "cell_type": "code",
   "execution_count": 310,
   "id": "35b100f7",
   "metadata": {},
   "outputs": [
    {
     "name": "stdout",
     "output_type": "stream",
     "text": [
      "Cochice\n",
      "name             Jason\n",
      "age                 42\n",
      "preTestScore         4\n",
      "postTestScore       25\n",
      "Name: Cochice, dtype: object\n",
      "Pima\n",
      "name             Molly\n",
      "age                333\n",
      "preTestScore        55\n",
      "postTestScore       94\n",
      "Name: Pima, dtype: object\n",
      "Santa Cruz\n",
      "name             Tina\n",
      "age               200\n",
      "preTestScore       31\n",
      "postTestScore      57\n",
      "Name: Santa Cruz, dtype: object\n",
      "Maricopa\n",
      "name             Jake\n",
      "age                24\n",
      "preTestScore        2\n",
      "postTestScore      62\n",
      "Name: Maricopa, dtype: object\n",
      "Yuma\n",
      "name             Amy\n",
      "age               73\n",
      "preTestScore       3\n",
      "postTestScore     70\n",
      "Name: Yuma, dtype: object\n"
     ]
    }
   ],
   "source": [
    "for label, row in df.iterrows():\n",
    "    print(label)\n",
    "    print(row)\n"
   ]
  },
  {
   "cell_type": "code",
   "execution_count": 311,
   "id": "9395cff2",
   "metadata": {},
   "outputs": [
    {
     "name": "stdout",
     "output_type": "stream",
     "text": [
      "Cochice\n",
      "42\n",
      "Pima\n",
      "333\n",
      "Santa Cruz\n",
      "200\n",
      "Maricopa\n",
      "24\n",
      "Yuma\n",
      "73\n"
     ]
    }
   ],
   "source": [
    "for label, row in df.iterrows():\n",
    "    print(label)\n",
    "    print(row['age'])"
   ]
  },
  {
   "cell_type": "code",
   "execution_count": 312,
   "id": "29a2d165",
   "metadata": {},
   "outputs": [
    {
     "name": "stdout",
     "output_type": "stream",
     "text": [
      "Cochice:42\n",
      "Pima:333\n",
      "Santa Cruz:200\n",
      "Maricopa:24\n",
      "Yuma:73\n"
     ]
    }
   ],
   "source": [
    "for label, row in df.iterrows():\n",
    "    print(f\"{label}:{row['age']}\")"
   ]
  },
  {
   "cell_type": "code",
   "execution_count": 313,
   "id": "fee2b78f",
   "metadata": {},
   "outputs": [
    {
     "data": {
      "text/html": [
       "<div>\n",
       "<style scoped>\n",
       "    .dataframe tbody tr th:only-of-type {\n",
       "        vertical-align: middle;\n",
       "    }\n",
       "\n",
       "    .dataframe tbody tr th {\n",
       "        vertical-align: top;\n",
       "    }\n",
       "\n",
       "    .dataframe thead th {\n",
       "        text-align: right;\n",
       "    }\n",
       "</style>\n",
       "<table border=\"1\" class=\"dataframe\">\n",
       "  <thead>\n",
       "    <tr style=\"text-align: right;\">\n",
       "      <th></th>\n",
       "      <th>name</th>\n",
       "      <th>age</th>\n",
       "      <th>preTestScore</th>\n",
       "      <th>postTestScore</th>\n",
       "      <th>name-len</th>\n",
       "    </tr>\n",
       "  </thead>\n",
       "  <tbody>\n",
       "    <tr>\n",
       "      <th>Cochice</th>\n",
       "      <td>Jason</td>\n",
       "      <td>42</td>\n",
       "      <td>4</td>\n",
       "      <td>25</td>\n",
       "      <td>5.0</td>\n",
       "    </tr>\n",
       "    <tr>\n",
       "      <th>Pima</th>\n",
       "      <td>Molly</td>\n",
       "      <td>333</td>\n",
       "      <td>55</td>\n",
       "      <td>94</td>\n",
       "      <td>5.0</td>\n",
       "    </tr>\n",
       "    <tr>\n",
       "      <th>Santa Cruz</th>\n",
       "      <td>Tina</td>\n",
       "      <td>200</td>\n",
       "      <td>31</td>\n",
       "      <td>57</td>\n",
       "      <td>4.0</td>\n",
       "    </tr>\n",
       "    <tr>\n",
       "      <th>Maricopa</th>\n",
       "      <td>Jake</td>\n",
       "      <td>24</td>\n",
       "      <td>2</td>\n",
       "      <td>62</td>\n",
       "      <td>4.0</td>\n",
       "    </tr>\n",
       "    <tr>\n",
       "      <th>Yuma</th>\n",
       "      <td>Amy</td>\n",
       "      <td>73</td>\n",
       "      <td>3</td>\n",
       "      <td>70</td>\n",
       "      <td>3.0</td>\n",
       "    </tr>\n",
       "  </tbody>\n",
       "</table>\n",
       "</div>"
      ],
      "text/plain": [
       "             name  age  preTestScore  postTestScore  name-len\n",
       "Cochice     Jason   42             4             25       5.0\n",
       "Pima        Molly  333            55             94       5.0\n",
       "Santa Cruz   Tina  200            31             57       4.0\n",
       "Maricopa     Jake   24             2             62       4.0\n",
       "Yuma          Amy   73             3             70       3.0"
      ]
     },
     "execution_count": 313,
     "metadata": {},
     "output_type": "execute_result"
    }
   ],
   "source": [
    "# Let's add a column that is the count of letters in name\n",
    "for label, row in df.iterrows():\n",
    "    df.loc[label,'name-len'] = len(row['name'])\n",
    "\n",
    "df"
   ]
  },
  {
   "cell_type": "markdown",
   "id": "2fc691df",
   "metadata": {},
   "source": [
    "### 5.3 Using the apply method\n",
    "\n",
    "The apply method is built into any pandas dataframe object. It is a very powerful method that allows you to apply a function to every row or column in a dataframe. Here is an example:"
   ]
  },
  {
   "cell_type": "code",
   "execution_count": 314,
   "id": "c54ca076",
   "metadata": {},
   "outputs": [
    {
     "data": {
      "text/html": [
       "<div>\n",
       "<style scoped>\n",
       "    .dataframe tbody tr th:only-of-type {\n",
       "        vertical-align: middle;\n",
       "    }\n",
       "\n",
       "    .dataframe tbody tr th {\n",
       "        vertical-align: top;\n",
       "    }\n",
       "\n",
       "    .dataframe thead th {\n",
       "        text-align: right;\n",
       "    }\n",
       "</style>\n",
       "<table border=\"1\" class=\"dataframe\">\n",
       "  <thead>\n",
       "    <tr style=\"text-align: right;\">\n",
       "      <th></th>\n",
       "      <th>name</th>\n",
       "      <th>age</th>\n",
       "      <th>preTestScore</th>\n",
       "      <th>postTestScore</th>\n",
       "      <th>name-len</th>\n",
       "      <th>name-length</th>\n",
       "    </tr>\n",
       "  </thead>\n",
       "  <tbody>\n",
       "    <tr>\n",
       "      <th>Cochice</th>\n",
       "      <td>Jason</td>\n",
       "      <td>42</td>\n",
       "      <td>4</td>\n",
       "      <td>25</td>\n",
       "      <td>5.0</td>\n",
       "      <td>5</td>\n",
       "    </tr>\n",
       "    <tr>\n",
       "      <th>Pima</th>\n",
       "      <td>Molly</td>\n",
       "      <td>333</td>\n",
       "      <td>55</td>\n",
       "      <td>94</td>\n",
       "      <td>5.0</td>\n",
       "      <td>5</td>\n",
       "    </tr>\n",
       "    <tr>\n",
       "      <th>Santa Cruz</th>\n",
       "      <td>Tina</td>\n",
       "      <td>200</td>\n",
       "      <td>31</td>\n",
       "      <td>57</td>\n",
       "      <td>4.0</td>\n",
       "      <td>4</td>\n",
       "    </tr>\n",
       "    <tr>\n",
       "      <th>Maricopa</th>\n",
       "      <td>Jake</td>\n",
       "      <td>24</td>\n",
       "      <td>2</td>\n",
       "      <td>62</td>\n",
       "      <td>4.0</td>\n",
       "      <td>4</td>\n",
       "    </tr>\n",
       "    <tr>\n",
       "      <th>Yuma</th>\n",
       "      <td>Amy</td>\n",
       "      <td>73</td>\n",
       "      <td>3</td>\n",
       "      <td>70</td>\n",
       "      <td>3.0</td>\n",
       "      <td>3</td>\n",
       "    </tr>\n",
       "  </tbody>\n",
       "</table>\n",
       "</div>"
      ],
      "text/plain": [
       "             name  age  preTestScore  postTestScore  name-len  name-length\n",
       "Cochice     Jason   42             4             25       5.0            5\n",
       "Pima        Molly  333            55             94       5.0            5\n",
       "Santa Cruz   Tina  200            31             57       4.0            4\n",
       "Maricopa     Jake   24             2             62       4.0            4\n",
       "Yuma          Amy   73             3             70       3.0            3"
      ]
     },
     "execution_count": 314,
     "metadata": {},
     "output_type": "execute_result"
    }
   ],
   "source": [
    "df['name-length'] = df['name'].apply(len) \n",
    "\n",
    "df"
   ]
  },
  {
   "cell_type": "markdown",
   "id": "257d10c7",
   "metadata": {},
   "source": [
    "Notice that the apply method takes a function as an argument. In the example above, we used an existing function called len that accepts a python composite data structure (such as a string) and returns the number of items in it.  We passed the len function to the apply method. The apply method then applied the len function to every row in the name column of the dataframe and returned the results in a new colu,n called name-length."
   ]
  },
  {
   "cell_type": "markdown",
   "id": "b55b0b96",
   "metadata": {},
   "source": [
    "Here is another example of using apply, this time we will only return the results to the screen, and not overwrite any data in the dataframe:"
   ]
  },
  {
   "cell_type": "code",
   "execution_count": 315,
   "id": "282d6c28",
   "metadata": {},
   "outputs": [
    {
     "data": {
      "text/plain": [
       "Cochice         1764\n",
       "Pima          110889\n",
       "Santa Cruz     40000\n",
       "Maricopa         576\n",
       "Yuma            5329\n",
       "Name: age, dtype: int64"
      ]
     },
     "execution_count": 315,
     "metadata": {},
     "output_type": "execute_result"
    }
   ],
   "source": [
    "df['age'].apply(lambda x: x ** 2) # this simple returns that values to the screen\n"
   ]
  },
  {
   "cell_type": "markdown",
   "id": "e77042d0",
   "metadata": {},
   "source": [
    "In this last example, we have used a lambda function. A lambda function is a function that is defined on the fly, and is not stored in memory. It is a very useful way to define a function that you only need to use once. In this example, we have defined a lambda function that takes a string as an argument and returns the length of the string. We then passed this lambda function to the apply method. The apply method then applied the lambda function to every row in the name column of the dataframe and returned the results to the screen."
   ]
  },
  {
   "cell_type": "markdown",
   "id": "d4dc5ec8",
   "metadata": {},
   "source": [
    "Finally, let's store the result from a apply method call in a new column in the dataframe:"
   ]
  },
  {
   "cell_type": "code",
   "execution_count": 316,
   "id": "df62548c",
   "metadata": {},
   "outputs": [
    {
     "data": {
      "text/html": [
       "<div>\n",
       "<style scoped>\n",
       "    .dataframe tbody tr th:only-of-type {\n",
       "        vertical-align: middle;\n",
       "    }\n",
       "\n",
       "    .dataframe tbody tr th {\n",
       "        vertical-align: top;\n",
       "    }\n",
       "\n",
       "    .dataframe thead th {\n",
       "        text-align: right;\n",
       "    }\n",
       "</style>\n",
       "<table border=\"1\" class=\"dataframe\">\n",
       "  <thead>\n",
       "    <tr style=\"text-align: right;\">\n",
       "      <th></th>\n",
       "      <th>name</th>\n",
       "      <th>age</th>\n",
       "      <th>preTestScore</th>\n",
       "      <th>postTestScore</th>\n",
       "      <th>name-len</th>\n",
       "      <th>name-length</th>\n",
       "      <th>age-squared</th>\n",
       "    </tr>\n",
       "  </thead>\n",
       "  <tbody>\n",
       "    <tr>\n",
       "      <th>Cochice</th>\n",
       "      <td>Jason</td>\n",
       "      <td>42</td>\n",
       "      <td>4</td>\n",
       "      <td>25</td>\n",
       "      <td>5.0</td>\n",
       "      <td>5</td>\n",
       "      <td>1764</td>\n",
       "    </tr>\n",
       "    <tr>\n",
       "      <th>Pima</th>\n",
       "      <td>Molly</td>\n",
       "      <td>333</td>\n",
       "      <td>55</td>\n",
       "      <td>94</td>\n",
       "      <td>5.0</td>\n",
       "      <td>5</td>\n",
       "      <td>110889</td>\n",
       "    </tr>\n",
       "    <tr>\n",
       "      <th>Santa Cruz</th>\n",
       "      <td>Tina</td>\n",
       "      <td>200</td>\n",
       "      <td>31</td>\n",
       "      <td>57</td>\n",
       "      <td>4.0</td>\n",
       "      <td>4</td>\n",
       "      <td>40000</td>\n",
       "    </tr>\n",
       "    <tr>\n",
       "      <th>Maricopa</th>\n",
       "      <td>Jake</td>\n",
       "      <td>24</td>\n",
       "      <td>2</td>\n",
       "      <td>62</td>\n",
       "      <td>4.0</td>\n",
       "      <td>4</td>\n",
       "      <td>576</td>\n",
       "    </tr>\n",
       "    <tr>\n",
       "      <th>Yuma</th>\n",
       "      <td>Amy</td>\n",
       "      <td>73</td>\n",
       "      <td>3</td>\n",
       "      <td>70</td>\n",
       "      <td>3.0</td>\n",
       "      <td>3</td>\n",
       "      <td>5329</td>\n",
       "    </tr>\n",
       "  </tbody>\n",
       "</table>\n",
       "</div>"
      ],
      "text/plain": [
       "             name  age  preTestScore  postTestScore  name-len  name-length  \\\n",
       "Cochice     Jason   42             4             25       5.0            5   \n",
       "Pima        Molly  333            55             94       5.0            5   \n",
       "Santa Cruz   Tina  200            31             57       4.0            4   \n",
       "Maricopa     Jake   24             2             62       4.0            4   \n",
       "Yuma          Amy   73             3             70       3.0            3   \n",
       "\n",
       "            age-squared  \n",
       "Cochice            1764  \n",
       "Pima             110889  \n",
       "Santa Cruz        40000  \n",
       "Maricopa            576  \n",
       "Yuma               5329  "
      ]
     },
     "execution_count": 316,
     "metadata": {},
     "output_type": "execute_result"
    }
   ],
   "source": [
    "df['age-squared'] = df['age'].apply(lambda x: x ** 2) # this adds a new column to the dataframe\n",
    "\n",
    "df"
   ]
  },
  {
   "cell_type": "markdown",
   "id": "e3b040ee",
   "metadata": {},
   "source": [
    "## 6.0 Comparison operators and Pandas (Filtering Pandas Dataframes)\n"
   ]
  },
  {
   "cell_type": "markdown",
   "id": "ba4d1163",
   "metadata": {},
   "source": [
    "Using standard comparison operators (such as <, <, ==, <=, <=) we can filter a pandas dataframe. Here are a few examples:"
   ]
  },
  {
   "cell_type": "code",
   "execution_count": 317,
   "id": "3a62c36e",
   "metadata": {},
   "outputs": [
    {
     "data": {
      "text/plain": [
       "Cochice       False\n",
       "Pima           True\n",
       "Santa Cruz     True\n",
       "Maricopa      False\n",
       "Yuma          False\n",
       "Name: age, dtype: bool"
      ]
     },
     "execution_count": 317,
     "metadata": {},
     "output_type": "execute_result"
    }
   ],
   "source": [
    "df['age'] > 99\n"
   ]
  },
  {
   "cell_type": "code",
   "execution_count": 318,
   "id": "02a9424d",
   "metadata": {},
   "outputs": [
    {
     "data": {
      "text/plain": [
       "Cochice       False\n",
       "Pima           True\n",
       "Santa Cruz     True\n",
       "Maricopa      False\n",
       "Yuma          False\n",
       "Name: age, dtype: bool"
      ]
     },
     "execution_count": 318,
     "metadata": {},
     "output_type": "execute_result"
    }
   ],
   "source": [
    "df['age'] > 99\n"
   ]
  },
  {
   "cell_type": "code",
   "execution_count": 319,
   "id": "a24375ca",
   "metadata": {},
   "outputs": [
    {
     "data": {
      "text/html": [
       "<div>\n",
       "<style scoped>\n",
       "    .dataframe tbody tr th:only-of-type {\n",
       "        vertical-align: middle;\n",
       "    }\n",
       "\n",
       "    .dataframe tbody tr th {\n",
       "        vertical-align: top;\n",
       "    }\n",
       "\n",
       "    .dataframe thead th {\n",
       "        text-align: right;\n",
       "    }\n",
       "</style>\n",
       "<table border=\"1\" class=\"dataframe\">\n",
       "  <thead>\n",
       "    <tr style=\"text-align: right;\">\n",
       "      <th></th>\n",
       "      <th>name</th>\n",
       "    </tr>\n",
       "  </thead>\n",
       "  <tbody>\n",
       "    <tr>\n",
       "      <th>Pima</th>\n",
       "      <td>Molly</td>\n",
       "    </tr>\n",
       "    <tr>\n",
       "      <th>Santa Cruz</th>\n",
       "      <td>Tina</td>\n",
       "    </tr>\n",
       "  </tbody>\n",
       "</table>\n",
       "</div>"
      ],
      "text/plain": [
       "             name\n",
       "Pima        Molly\n",
       "Santa Cruz   Tina"
      ]
     },
     "execution_count": 319,
     "metadata": {},
     "output_type": "execute_result"
    }
   ],
   "source": [
    "df[df['age'] > 99][['name']]\n"
   ]
  },
  {
   "cell_type": "markdown",
   "id": "618971ed",
   "metadata": {},
   "source": [
    "When we want to combine multiple conditions, we can use and or or. Here are some examples:"
   ]
  },
  {
   "cell_type": "code",
   "execution_count": 320,
   "id": "dccd0f1d",
   "metadata": {},
   "outputs": [
    {
     "data": {
      "text/plain": [
       "Cochice       False\n",
       "Pima          False\n",
       "Santa Cruz     True\n",
       "Maricopa      False\n",
       "Yuma          False\n",
       "dtype: bool"
      ]
     },
     "execution_count": 320,
     "metadata": {},
     "output_type": "execute_result"
    }
   ],
   "source": [
    "np.logical_and(df['age'] > 99, df['name-len'] < 5)\n"
   ]
  },
  {
   "cell_type": "code",
   "execution_count": 321,
   "id": "7485e697",
   "metadata": {},
   "outputs": [
    {
     "data": {
      "text/html": [
       "<div>\n",
       "<style scoped>\n",
       "    .dataframe tbody tr th:only-of-type {\n",
       "        vertical-align: middle;\n",
       "    }\n",
       "\n",
       "    .dataframe tbody tr th {\n",
       "        vertical-align: top;\n",
       "    }\n",
       "\n",
       "    .dataframe thead th {\n",
       "        text-align: right;\n",
       "    }\n",
       "</style>\n",
       "<table border=\"1\" class=\"dataframe\">\n",
       "  <thead>\n",
       "    <tr style=\"text-align: right;\">\n",
       "      <th></th>\n",
       "      <th>name</th>\n",
       "      <th>age</th>\n",
       "      <th>preTestScore</th>\n",
       "      <th>postTestScore</th>\n",
       "      <th>name-len</th>\n",
       "      <th>name-length</th>\n",
       "      <th>age-squared</th>\n",
       "    </tr>\n",
       "  </thead>\n",
       "  <tbody>\n",
       "    <tr>\n",
       "      <th>Pima</th>\n",
       "      <td>Molly</td>\n",
       "      <td>333</td>\n",
       "      <td>55</td>\n",
       "      <td>94</td>\n",
       "      <td>5.0</td>\n",
       "      <td>5</td>\n",
       "      <td>110889</td>\n",
       "    </tr>\n",
       "    <tr>\n",
       "      <th>Santa Cruz</th>\n",
       "      <td>Tina</td>\n",
       "      <td>200</td>\n",
       "      <td>31</td>\n",
       "      <td>57</td>\n",
       "      <td>4.0</td>\n",
       "      <td>4</td>\n",
       "      <td>40000</td>\n",
       "    </tr>\n",
       "    <tr>\n",
       "      <th>Maricopa</th>\n",
       "      <td>Jake</td>\n",
       "      <td>24</td>\n",
       "      <td>2</td>\n",
       "      <td>62</td>\n",
       "      <td>4.0</td>\n",
       "      <td>4</td>\n",
       "      <td>576</td>\n",
       "    </tr>\n",
       "    <tr>\n",
       "      <th>Yuma</th>\n",
       "      <td>Amy</td>\n",
       "      <td>73</td>\n",
       "      <td>3</td>\n",
       "      <td>70</td>\n",
       "      <td>3.0</td>\n",
       "      <td>3</td>\n",
       "      <td>5329</td>\n",
       "    </tr>\n",
       "  </tbody>\n",
       "</table>\n",
       "</div>"
      ],
      "text/plain": [
       "             name  age  preTestScore  postTestScore  name-len  name-length  \\\n",
       "Pima        Molly  333            55             94       5.0            5   \n",
       "Santa Cruz   Tina  200            31             57       4.0            4   \n",
       "Maricopa     Jake   24             2             62       4.0            4   \n",
       "Yuma          Amy   73             3             70       3.0            3   \n",
       "\n",
       "            age-squared  \n",
       "Pima             110889  \n",
       "Santa Cruz        40000  \n",
       "Maricopa            576  \n",
       "Yuma               5329  "
      ]
     },
     "execution_count": 321,
     "metadata": {},
     "output_type": "execute_result"
    }
   ],
   "source": [
    "df[np.logical_or(df['age'] > 99, df['name-len'] < 5)]\n"
   ]
  },
  {
   "cell_type": "markdown",
   "id": "70ad44e8",
   "metadata": {},
   "source": [
    "## 7.0 Summarizing Data from dataframes"
   ]
  },
  {
   "cell_type": "markdown",
   "id": "b5a059b1",
   "metadata": {},
   "source": [
    "A common task when working with dataframes is summarizing the data within the dataframe. In this section we cover some of the more common ways in which we summarize a dataframe. We will see many examples of this during the course as we prepare data for modeling. \n",
    "\n",
    "Let's begin by reading a dataframe to use in our examples. We create this dataframe from a csv file located on a website -- in this case, a file from one of my public GitHub repos:"
   ]
  },
  {
   "cell_type": "code",
   "execution_count": 322,
   "id": "c479e276",
   "metadata": {},
   "outputs": [],
   "source": [
    "df = pd.read_csv('https://raw.githubusercontent.com/prof-tcsmith/data/master/UniversalBank.csv')"
   ]
  },
  {
   "cell_type": "markdown",
   "id": "fbbefa0a",
   "metadata": {},
   "source": [
    "#### .info() method\n",
    "\n",
    "The .info() method provides a list of columns, null count information, and the data type of each column."
   ]
  },
  {
   "cell_type": "code",
   "execution_count": 323,
   "id": "4c492100",
   "metadata": {},
   "outputs": [
    {
     "name": "stdout",
     "output_type": "stream",
     "text": [
      "<class 'pandas.core.frame.DataFrame'>\n",
      "RangeIndex: 5000 entries, 0 to 4999\n",
      "Data columns (total 14 columns):\n",
      " #   Column              Non-Null Count  Dtype  \n",
      "---  ------              --------------  -----  \n",
      " 0   ID                  5000 non-null   int64  \n",
      " 1   Age                 5000 non-null   int64  \n",
      " 2   Experience          5000 non-null   int64  \n",
      " 3   Income              5000 non-null   int64  \n",
      " 4   ZIP Code            5000 non-null   int64  \n",
      " 5   Family              5000 non-null   int64  \n",
      " 6   CCAvg               5000 non-null   float64\n",
      " 7   Education           5000 non-null   int64  \n",
      " 8   Mortgage            5000 non-null   int64  \n",
      " 9   Personal Loan       5000 non-null   int64  \n",
      " 10  Securities Account  5000 non-null   int64  \n",
      " 11  CD Account          5000 non-null   int64  \n",
      " 12  Online              5000 non-null   int64  \n",
      " 13  CreditCard          5000 non-null   int64  \n",
      "dtypes: float64(1), int64(13)\n",
      "memory usage: 547.0 KB\n"
     ]
    }
   ],
   "source": [
    "df.info()"
   ]
  },
  {
   "cell_type": "markdown",
   "id": "7081a706",
   "metadata": {},
   "source": [
    "#### .describe()"
   ]
  },
  {
   "cell_type": "markdown",
   "id": "a3855305",
   "metadata": {},
   "source": [
    "Describe provides a statistical summary of the continuous variables found in the dataframe."
   ]
  },
  {
   "cell_type": "code",
   "execution_count": 324,
   "id": "d24abd8c",
   "metadata": {},
   "outputs": [
    {
     "data": {
      "text/html": [
       "<div>\n",
       "<style scoped>\n",
       "    .dataframe tbody tr th:only-of-type {\n",
       "        vertical-align: middle;\n",
       "    }\n",
       "\n",
       "    .dataframe tbody tr th {\n",
       "        vertical-align: top;\n",
       "    }\n",
       "\n",
       "    .dataframe thead th {\n",
       "        text-align: right;\n",
       "    }\n",
       "</style>\n",
       "<table border=\"1\" class=\"dataframe\">\n",
       "  <thead>\n",
       "    <tr style=\"text-align: right;\">\n",
       "      <th></th>\n",
       "      <th>ID</th>\n",
       "      <th>Age</th>\n",
       "      <th>Experience</th>\n",
       "      <th>Income</th>\n",
       "      <th>ZIP Code</th>\n",
       "      <th>Family</th>\n",
       "      <th>CCAvg</th>\n",
       "      <th>Education</th>\n",
       "      <th>Mortgage</th>\n",
       "      <th>Personal Loan</th>\n",
       "      <th>Securities Account</th>\n",
       "      <th>CD Account</th>\n",
       "      <th>Online</th>\n",
       "      <th>CreditCard</th>\n",
       "    </tr>\n",
       "  </thead>\n",
       "  <tbody>\n",
       "    <tr>\n",
       "      <th>count</th>\n",
       "      <td>5000.000000</td>\n",
       "      <td>5000.000000</td>\n",
       "      <td>5000.000000</td>\n",
       "      <td>5000.000000</td>\n",
       "      <td>5000.000000</td>\n",
       "      <td>5000.000000</td>\n",
       "      <td>5000.000000</td>\n",
       "      <td>5000.000000</td>\n",
       "      <td>5000.000000</td>\n",
       "      <td>5000.000000</td>\n",
       "      <td>5000.000000</td>\n",
       "      <td>5000.00000</td>\n",
       "      <td>5000.000000</td>\n",
       "      <td>5000.000000</td>\n",
       "    </tr>\n",
       "    <tr>\n",
       "      <th>mean</th>\n",
       "      <td>2500.500000</td>\n",
       "      <td>45.338400</td>\n",
       "      <td>20.104600</td>\n",
       "      <td>73.774200</td>\n",
       "      <td>93152.503000</td>\n",
       "      <td>2.396400</td>\n",
       "      <td>1.937938</td>\n",
       "      <td>1.881000</td>\n",
       "      <td>56.498800</td>\n",
       "      <td>0.096000</td>\n",
       "      <td>0.104400</td>\n",
       "      <td>0.06040</td>\n",
       "      <td>0.596800</td>\n",
       "      <td>0.294000</td>\n",
       "    </tr>\n",
       "    <tr>\n",
       "      <th>std</th>\n",
       "      <td>1443.520003</td>\n",
       "      <td>11.463166</td>\n",
       "      <td>11.467954</td>\n",
       "      <td>46.033729</td>\n",
       "      <td>2121.852197</td>\n",
       "      <td>1.147663</td>\n",
       "      <td>1.747659</td>\n",
       "      <td>0.839869</td>\n",
       "      <td>101.713802</td>\n",
       "      <td>0.294621</td>\n",
       "      <td>0.305809</td>\n",
       "      <td>0.23825</td>\n",
       "      <td>0.490589</td>\n",
       "      <td>0.455637</td>\n",
       "    </tr>\n",
       "    <tr>\n",
       "      <th>min</th>\n",
       "      <td>1.000000</td>\n",
       "      <td>23.000000</td>\n",
       "      <td>-3.000000</td>\n",
       "      <td>8.000000</td>\n",
       "      <td>9307.000000</td>\n",
       "      <td>1.000000</td>\n",
       "      <td>0.000000</td>\n",
       "      <td>1.000000</td>\n",
       "      <td>0.000000</td>\n",
       "      <td>0.000000</td>\n",
       "      <td>0.000000</td>\n",
       "      <td>0.00000</td>\n",
       "      <td>0.000000</td>\n",
       "      <td>0.000000</td>\n",
       "    </tr>\n",
       "    <tr>\n",
       "      <th>25%</th>\n",
       "      <td>1250.750000</td>\n",
       "      <td>35.000000</td>\n",
       "      <td>10.000000</td>\n",
       "      <td>39.000000</td>\n",
       "      <td>91911.000000</td>\n",
       "      <td>1.000000</td>\n",
       "      <td>0.700000</td>\n",
       "      <td>1.000000</td>\n",
       "      <td>0.000000</td>\n",
       "      <td>0.000000</td>\n",
       "      <td>0.000000</td>\n",
       "      <td>0.00000</td>\n",
       "      <td>0.000000</td>\n",
       "      <td>0.000000</td>\n",
       "    </tr>\n",
       "    <tr>\n",
       "      <th>50%</th>\n",
       "      <td>2500.500000</td>\n",
       "      <td>45.000000</td>\n",
       "      <td>20.000000</td>\n",
       "      <td>64.000000</td>\n",
       "      <td>93437.000000</td>\n",
       "      <td>2.000000</td>\n",
       "      <td>1.500000</td>\n",
       "      <td>2.000000</td>\n",
       "      <td>0.000000</td>\n",
       "      <td>0.000000</td>\n",
       "      <td>0.000000</td>\n",
       "      <td>0.00000</td>\n",
       "      <td>1.000000</td>\n",
       "      <td>0.000000</td>\n",
       "    </tr>\n",
       "    <tr>\n",
       "      <th>75%</th>\n",
       "      <td>3750.250000</td>\n",
       "      <td>55.000000</td>\n",
       "      <td>30.000000</td>\n",
       "      <td>98.000000</td>\n",
       "      <td>94608.000000</td>\n",
       "      <td>3.000000</td>\n",
       "      <td>2.500000</td>\n",
       "      <td>3.000000</td>\n",
       "      <td>101.000000</td>\n",
       "      <td>0.000000</td>\n",
       "      <td>0.000000</td>\n",
       "      <td>0.00000</td>\n",
       "      <td>1.000000</td>\n",
       "      <td>1.000000</td>\n",
       "    </tr>\n",
       "    <tr>\n",
       "      <th>max</th>\n",
       "      <td>5000.000000</td>\n",
       "      <td>67.000000</td>\n",
       "      <td>43.000000</td>\n",
       "      <td>224.000000</td>\n",
       "      <td>96651.000000</td>\n",
       "      <td>4.000000</td>\n",
       "      <td>10.000000</td>\n",
       "      <td>3.000000</td>\n",
       "      <td>635.000000</td>\n",
       "      <td>1.000000</td>\n",
       "      <td>1.000000</td>\n",
       "      <td>1.00000</td>\n",
       "      <td>1.000000</td>\n",
       "      <td>1.000000</td>\n",
       "    </tr>\n",
       "  </tbody>\n",
       "</table>\n",
       "</div>"
      ],
      "text/plain": [
       "                ID          Age   Experience       Income      ZIP Code  \\\n",
       "count  5000.000000  5000.000000  5000.000000  5000.000000   5000.000000   \n",
       "mean   2500.500000    45.338400    20.104600    73.774200  93152.503000   \n",
       "std    1443.520003    11.463166    11.467954    46.033729   2121.852197   \n",
       "min       1.000000    23.000000    -3.000000     8.000000   9307.000000   \n",
       "25%    1250.750000    35.000000    10.000000    39.000000  91911.000000   \n",
       "50%    2500.500000    45.000000    20.000000    64.000000  93437.000000   \n",
       "75%    3750.250000    55.000000    30.000000    98.000000  94608.000000   \n",
       "max    5000.000000    67.000000    43.000000   224.000000  96651.000000   \n",
       "\n",
       "            Family        CCAvg    Education     Mortgage  Personal Loan  \\\n",
       "count  5000.000000  5000.000000  5000.000000  5000.000000    5000.000000   \n",
       "mean      2.396400     1.937938     1.881000    56.498800       0.096000   \n",
       "std       1.147663     1.747659     0.839869   101.713802       0.294621   \n",
       "min       1.000000     0.000000     1.000000     0.000000       0.000000   \n",
       "25%       1.000000     0.700000     1.000000     0.000000       0.000000   \n",
       "50%       2.000000     1.500000     2.000000     0.000000       0.000000   \n",
       "75%       3.000000     2.500000     3.000000   101.000000       0.000000   \n",
       "max       4.000000    10.000000     3.000000   635.000000       1.000000   \n",
       "\n",
       "       Securities Account  CD Account       Online   CreditCard  \n",
       "count         5000.000000  5000.00000  5000.000000  5000.000000  \n",
       "mean             0.104400     0.06040     0.596800     0.294000  \n",
       "std              0.305809     0.23825     0.490589     0.455637  \n",
       "min              0.000000     0.00000     0.000000     0.000000  \n",
       "25%              0.000000     0.00000     0.000000     0.000000  \n",
       "50%              0.000000     0.00000     1.000000     0.000000  \n",
       "75%              0.000000     0.00000     1.000000     1.000000  \n",
       "max              1.000000     1.00000     1.000000     1.000000  "
      ]
     },
     "execution_count": 324,
     "metadata": {},
     "output_type": "execute_result"
    }
   ],
   "source": [
    "df.describe()"
   ]
  },
  {
   "cell_type": "markdown",
   "id": "21215b7a",
   "metadata": {},
   "source": [
    "#### .value_counts()"
   ]
  },
  {
   "cell_type": "markdown",
   "id": "13a82d93",
   "metadata": {},
   "source": [
    "Value counts provides the number of each category (or class) found in a categorical variable."
   ]
  },
  {
   "cell_type": "code",
   "execution_count": 325,
   "id": "f9546e90",
   "metadata": {},
   "outputs": [
    {
     "data": {
      "text/plain": [
       "CreditCard\n",
       "0    3530\n",
       "1    1470\n",
       "Name: count, dtype: int64"
      ]
     },
     "execution_count": 325,
     "metadata": {},
     "output_type": "execute_result"
    }
   ],
   "source": [
    "df['CreditCard'].value_counts()"
   ]
  },
  {
   "cell_type": "markdown",
   "id": "584f284a",
   "metadata": {},
   "source": [
    "Value_counts has little value when summarizing a continuous variable:"
   ]
  },
  {
   "cell_type": "code",
   "execution_count": 326,
   "id": "0101f06d",
   "metadata": {},
   "outputs": [
    {
     "data": {
      "text/plain": [
       "<bound method IndexOpsMixin.value_counts of 0        49\n",
       "1        34\n",
       "2        11\n",
       "3       100\n",
       "4        45\n",
       "       ... \n",
       "4995     40\n",
       "4996     15\n",
       "4997     24\n",
       "4998     49\n",
       "4999     83\n",
       "Name: Income, Length: 5000, dtype: int64>"
      ]
     },
     "execution_count": 326,
     "metadata": {},
     "output_type": "execute_result"
    }
   ],
   "source": [
    "df['Income'].value_counts"
   ]
  },
  {
   "cell_type": "markdown",
   "id": "16594e79",
   "metadata": {},
   "source": [
    "#### .unique and .nunique()"
   ]
  },
  {
   "cell_type": "markdown",
   "id": "c0eb5c62",
   "metadata": {},
   "source": [
    ".unique() provides a list of the unique values found in a dataframe variable (column). nunique() provides a number of unique values found in a given column variable."
   ]
  },
  {
   "cell_type": "code",
   "execution_count": 327,
   "id": "14c33831",
   "metadata": {},
   "outputs": [
    {
     "data": {
      "text/plain": [
       "array([1, 2, 3], dtype=int64)"
      ]
     },
     "execution_count": 327,
     "metadata": {},
     "output_type": "execute_result"
    }
   ],
   "source": [
    "df['Education'].unique() # find the unique values in the AGE column"
   ]
  },
  {
   "cell_type": "code",
   "execution_count": 328,
   "id": "ff33136d",
   "metadata": {},
   "outputs": [
    {
     "data": {
      "text/plain": [
       "array([25, 45, 39, 35, 37, 53, 50, 34, 65, 29, 48, 59, 67, 60, 38, 42, 46,\n",
       "       55, 56, 57, 44, 36, 43, 40, 30, 31, 51, 32, 61, 41, 28, 49, 47, 62,\n",
       "       58, 54, 33, 27, 66, 24, 52, 26, 64, 63, 23], dtype=int64)"
      ]
     },
     "execution_count": 328,
     "metadata": {},
     "output_type": "execute_result"
    }
   ],
   "source": [
    "df['Age'].unique() # find the unique values in the AGE column. It's rare that is is applied to a continuous variable, but it's possible to do"
   ]
  },
  {
   "cell_type": "markdown",
   "id": "5b8cfa9d",
   "metadata": {},
   "source": [
    "#### .sum()"
   ]
  },
  {
   "cell_type": "markdown",
   "id": "b47067f7",
   "metadata": {},
   "source": [
    "Provides the sum of a continuous variable found in the dataframe"
   ]
  },
  {
   "cell_type": "code",
   "execution_count": 329,
   "id": "1418346c",
   "metadata": {},
   "outputs": [
    {
     "data": {
      "text/plain": [
       "ID                    1.250250e+07\n",
       "Age                   2.266920e+05\n",
       "Experience            1.005230e+05\n",
       "Income                3.688710e+05\n",
       "ZIP Code              4.657625e+08\n",
       "Family                1.198200e+04\n",
       "CCAvg                 9.689690e+03\n",
       "Education             9.405000e+03\n",
       "Mortgage              2.824940e+05\n",
       "Personal Loan         4.800000e+02\n",
       "Securities Account    5.220000e+02\n",
       "CD Account            3.020000e+02\n",
       "Online                2.984000e+03\n",
       "CreditCard            1.470000e+03\n",
       "dtype: float64"
      ]
     },
     "execution_count": 329,
     "metadata": {},
     "output_type": "execute_result"
    }
   ],
   "source": [
    "df.sum()"
   ]
  },
  {
   "cell_type": "code",
   "execution_count": 330,
   "id": "21ceccf5",
   "metadata": {},
   "outputs": [
    {
     "data": {
      "text/plain": [
       "368871"
      ]
     },
     "execution_count": 330,
     "metadata": {},
     "output_type": "execute_result"
    }
   ],
   "source": [
    "df['Income'].sum()"
   ]
  },
  {
   "cell_type": "code",
   "execution_count": 331,
   "id": "f82e4833",
   "metadata": {},
   "outputs": [],
   "source": [
    "# df['Education']sum() # this will generate an error because the sum method doesn't work on strings or categorical variables"
   ]
  },
  {
   "cell_type": "markdown",
   "id": "8c0738a4",
   "metadata": {},
   "source": [
    "#### .count()"
   ]
  },
  {
   "cell_type": "markdown",
   "id": "86cb7b4f",
   "metadata": {},
   "source": [
    "Provides a count of the number of observations in each variable. This is the same as the value_counts() method, but it is applied to each column"
   ]
  },
  {
   "cell_type": "code",
   "execution_count": 332,
   "id": "ccc06b3f",
   "metadata": {},
   "outputs": [
    {
     "data": {
      "text/plain": [
       "ID                    5000\n",
       "Age                   5000\n",
       "Experience            5000\n",
       "Income                5000\n",
       "ZIP Code              5000\n",
       "Family                5000\n",
       "CCAvg                 5000\n",
       "Education             5000\n",
       "Mortgage              5000\n",
       "Personal Loan         5000\n",
       "Securities Account    5000\n",
       "CD Account            5000\n",
       "Online                5000\n",
       "CreditCard            5000\n",
       "dtype: int64"
      ]
     },
     "execution_count": 332,
     "metadata": {},
     "output_type": "execute_result"
    }
   ],
   "source": [
    "df.count()"
   ]
  },
  {
   "cell_type": "markdown",
   "id": "c09e42d4",
   "metadata": {},
   "source": [
    "#### .min(), .max(), .mean(), and median()"
   ]
  },
  {
   "cell_type": "code",
   "execution_count": 333,
   "id": "a916a0e5",
   "metadata": {},
   "outputs": [
    {
     "data": {
      "text/plain": [
       "ID                       1.0\n",
       "Age                     23.0\n",
       "Experience              -3.0\n",
       "Income                   8.0\n",
       "ZIP Code              9307.0\n",
       "Family                   1.0\n",
       "CCAvg                    0.0\n",
       "Education                1.0\n",
       "Mortgage                 0.0\n",
       "Personal Loan            0.0\n",
       "Securities Account       0.0\n",
       "CD Account               0.0\n",
       "Online                   0.0\n",
       "CreditCard               0.0\n",
       "dtype: float64"
      ]
     },
     "execution_count": 333,
     "metadata": {},
     "output_type": "execute_result"
    }
   ],
   "source": [
    "df.min() # produces the minimum value in each column"
   ]
  },
  {
   "cell_type": "code",
   "execution_count": 334,
   "id": "d8d6372b",
   "metadata": {},
   "outputs": [
    {
     "data": {
      "text/plain": [
       "8"
      ]
     },
     "execution_count": 334,
     "metadata": {},
     "output_type": "execute_result"
    }
   ],
   "source": [
    "df['Income'].min() # produces the minimum value in the INCOME column"
   ]
  },
  {
   "cell_type": "code",
   "execution_count": 335,
   "id": "a5f78f87",
   "metadata": {},
   "outputs": [
    {
     "data": {
      "text/plain": [
       "224"
      ]
     },
     "execution_count": 335,
     "metadata": {},
     "output_type": "execute_result"
    }
   ],
   "source": [
    "df['Income'].max() # produces the maximum value in the INCOME column"
   ]
  },
  {
   "cell_type": "code",
   "execution_count": 336,
   "id": "7dbbddc7",
   "metadata": {},
   "outputs": [
    {
     "data": {
      "text/plain": [
       "73.7742"
      ]
     },
     "execution_count": 336,
     "metadata": {},
     "output_type": "execute_result"
    }
   ],
   "source": [
    "df['Income'].mean() # produces the mean value in the INCOME column"
   ]
  },
  {
   "cell_type": "code",
   "execution_count": 337,
   "id": "bdc2c451",
   "metadata": {},
   "outputs": [
    {
     "data": {
      "text/plain": [
       "64.0"
      ]
     },
     "execution_count": 337,
     "metadata": {},
     "output_type": "execute_result"
    }
   ],
   "source": [
    "df['Income'].median() # produces the median value in each column"
   ]
  },
  {
   "cell_type": "markdown",
   "id": "f0e9d8e8",
   "metadata": {},
   "source": [
    "#### .groupby()"
   ]
  },
  {
   "cell_type": "code",
   "execution_count": 338,
   "id": "3eb8d6a9",
   "metadata": {},
   "outputs": [
    {
     "data": {
      "text/html": [
       "<div>\n",
       "<style scoped>\n",
       "    .dataframe tbody tr th:only-of-type {\n",
       "        vertical-align: middle;\n",
       "    }\n",
       "\n",
       "    .dataframe tbody tr th {\n",
       "        vertical-align: top;\n",
       "    }\n",
       "\n",
       "    .dataframe thead th {\n",
       "        text-align: right;\n",
       "    }\n",
       "</style>\n",
       "<table border=\"1\" class=\"dataframe\">\n",
       "  <thead>\n",
       "    <tr style=\"text-align: right;\">\n",
       "      <th></th>\n",
       "      <th>ID</th>\n",
       "      <th>Age</th>\n",
       "      <th>Experience</th>\n",
       "      <th>Income</th>\n",
       "      <th>ZIP Code</th>\n",
       "      <th>Family</th>\n",
       "      <th>CCAvg</th>\n",
       "      <th>Mortgage</th>\n",
       "      <th>Personal Loan</th>\n",
       "      <th>Securities Account</th>\n",
       "      <th>CD Account</th>\n",
       "      <th>Online</th>\n",
       "      <th>CreditCard</th>\n",
       "    </tr>\n",
       "    <tr>\n",
       "      <th>Education</th>\n",
       "      <th></th>\n",
       "      <th></th>\n",
       "      <th></th>\n",
       "      <th></th>\n",
       "      <th></th>\n",
       "      <th></th>\n",
       "      <th></th>\n",
       "      <th></th>\n",
       "      <th></th>\n",
       "      <th></th>\n",
       "      <th></th>\n",
       "      <th></th>\n",
       "      <th></th>\n",
       "    </tr>\n",
       "  </thead>\n",
       "  <tbody>\n",
       "    <tr>\n",
       "      <th>1</th>\n",
       "      <td>5183663</td>\n",
       "      <td>94244</td>\n",
       "      <td>42057</td>\n",
       "      <td>179389</td>\n",
       "      <td>195236537</td>\n",
       "      <td>4687</td>\n",
       "      <td>4738.70</td>\n",
       "      <td>129171</td>\n",
       "      <td>93</td>\n",
       "      <td>224</td>\n",
       "      <td>118</td>\n",
       "      <td>1255</td>\n",
       "      <td>633</td>\n",
       "    </tr>\n",
       "    <tr>\n",
       "      <th>2</th>\n",
       "      <td>3492891</td>\n",
       "      <td>63191</td>\n",
       "      <td>27738</td>\n",
       "      <td>90232</td>\n",
       "      <td>130869983</td>\n",
       "      <td>3721</td>\n",
       "      <td>2364.18</td>\n",
       "      <td>72001</td>\n",
       "      <td>182</td>\n",
       "      <td>150</td>\n",
       "      <td>88</td>\n",
       "      <td>860</td>\n",
       "      <td>400</td>\n",
       "    </tr>\n",
       "    <tr>\n",
       "      <th>3</th>\n",
       "      <td>3825946</td>\n",
       "      <td>69257</td>\n",
       "      <td>30728</td>\n",
       "      <td>99250</td>\n",
       "      <td>139655995</td>\n",
       "      <td>3574</td>\n",
       "      <td>2586.81</td>\n",
       "      <td>81322</td>\n",
       "      <td>205</td>\n",
       "      <td>148</td>\n",
       "      <td>96</td>\n",
       "      <td>869</td>\n",
       "      <td>437</td>\n",
       "    </tr>\n",
       "  </tbody>\n",
       "</table>\n",
       "</div>"
      ],
      "text/plain": [
       "                ID    Age  Experience  Income   ZIP Code  Family    CCAvg  \\\n",
       "Education                                                                   \n",
       "1          5183663  94244       42057  179389  195236537    4687  4738.70   \n",
       "2          3492891  63191       27738   90232  130869983    3721  2364.18   \n",
       "3          3825946  69257       30728   99250  139655995    3574  2586.81   \n",
       "\n",
       "           Mortgage  Personal Loan  Securities Account  CD Account  Online  \\\n",
       "Education                                                                    \n",
       "1            129171             93                 224         118    1255   \n",
       "2             72001            182                 150          88     860   \n",
       "3             81322            205                 148          96     869   \n",
       "\n",
       "           CreditCard  \n",
       "Education              \n",
       "1                 633  \n",
       "2                 400  \n",
       "3                 437  "
      ]
     },
     "execution_count": 338,
     "metadata": {},
     "output_type": "execute_result"
    }
   ],
   "source": [
    "df.groupby('Education').sum()"
   ]
  },
  {
   "cell_type": "code",
   "execution_count": 339,
   "id": "564328b8",
   "metadata": {},
   "outputs": [
    {
     "data": {
      "text/plain": [
       "Education\n",
       "1    179389\n",
       "2     90232\n",
       "3     99250\n",
       "Name: Income, dtype: int64"
      ]
     },
     "execution_count": 339,
     "metadata": {},
     "output_type": "execute_result"
    }
   ],
   "source": [
    "df.groupby('Education')['Income'].sum()"
   ]
  }
 ],
 "metadata": {
  "kernelspec": {
   "display_name": "Python 3 (ipykernel)",
   "language": "python",
   "name": "python3"
  },
  "language_info": {
   "codemirror_mode": {
    "name": "ipython",
    "version": 3
   },
   "file_extension": ".py",
   "mimetype": "text/x-python",
   "name": "python",
   "nbconvert_exporter": "python",
   "pygments_lexer": "ipython3",
   "version": "3.11.4"
  },
  "vscode": {
   "interpreter": {
    "hash": "b056086e24cb5602cbcb82122035cd3d6ee2ccbf5df29c16e348c108b0f83be3"
   }
  }
 },
 "nbformat": 4,
 "nbformat_minor": 5
}
