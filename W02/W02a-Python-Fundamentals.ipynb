{
 "cells": [
  {
   "cell_type": "markdown",
   "id": "e570574f-b48e-4df8-be6b-b2c7709515c9",
   "metadata": {},
   "source": [
    "# Python Fundamentals\n",
    "\n",
    "**Week02, Python Fundamentals**\n",
    "\n",
    "ISM6136\n",
    "\n",
    "&copy; 2023 Dr. Tim Smith\n",
    "\n",
    "\n",
    "<a target=\"_blank\" href=\"https://colab.research.google.com/github/prof-tcsmith/dm-f23/blob/main/W02/W02a-Python-Fundamentals.ipynb#offline=1\">\n",
    "  <img src=\"https://colab.research.google.com/assets/colab-badge.svg\" alt=\"Open In Colab\"/>\n",
    "</a>\n",
    "\n",
    "---"
   ]
  },
  {
   "cell_type": "markdown",
   "id": "5284610c",
   "metadata": {},
   "source": [
    "## Introduction\n",
    "\n",
    "Learning python fundamentals and data types in python.\n",
    "\n",
    "Python is a high-level, interpreted, interactive and object-oriented scripting language. Python is designed to be highly readable. It uses English keywords frequently where as other languages use punctuation, and it has fewer syntactical constructions than other languages.\n",
    "\n",
    "Python is a MUST for students and working professionals to become a great data analyst specially when they are working in the AI and Machine Learning Domains. I will list down some of the key advantages of learning Python:\n",
    "\n",
    "* Python is Interpreted − Python is processed at runtime by the interpreter. You do not need to compile your program before executing it. This is similar to PERL and PHP.\n",
    "\n",
    "* Python is Interactive − You can actually sit at a Python prompt and interact with the interpreter directly to write your programs.\n",
    "\n",
    "* Python is Object-Oriented − Python supports Object-Oriented style or technique of programming that encapsulates code within objects.\n",
    "\n",
    "* Python is a High-level Language − When you write programs in Python, you do not need to remember the system architecture details.\n",
    "\n",
    "* Python is a Portable language − The Python code can run on a wide variety of hardware platforms and has the same interface on all platforms.\n",
    "\n",
    "* Python is an Extensible language − You can add low-level modules to the Python interpreter. These modules enable programmers to add to or customize their tools to be more efficient.\n",
    "\n",
    "* Python is a Build-in Data Structure − Python has build-in data structure like list, tuple, dictionary and set available for use.\n",
    "\n",
    "* Python is a Build-in Function − Python has build-in function like print(), open(), len() etc. available for use.\n",
    "\n",
    "* Python is a Build-in Module − Python has build-in module like os, sys, math, random, datetime etc. available for use.\n",
    "\n",
    "* Python is a Rich Library − Python has a standard library which provides a rich set of module and function so you do not have to write your own code for every single thing.\n",
    "\n",
    "* Python is a Dynamic Language − Python is an interpreted language. That means the Python code is executed line by line. This makes debugging easy and thus suitable for beginners.\n",
    "\n",
    "In this notebook we will explore the following topics:\n",
    "\n",
    "* Basic syntax including commenting\n",
    "* Variables\n",
    "* Data Types\n",
    "* Operators\n",
    "* Conditional Statements and Loops\n",
    "* Functions\n",
    "* Composite Data Types\n",
    "* List Comprehensions & Dictionary Comprehensions\n",
    "* Lambda Expressions\n",
    "* Python Modules\n"
   ]
  },
  {
   "cell_type": "markdown",
   "id": "22747980",
   "metadata": {},
   "source": [
    "## 1.0 Comments"
   ]
  },
  {
   "cell_type": "markdown",
   "id": "832eea7f",
   "metadata": {},
   "source": [
    "We will start our journey by looking at commenting code. Then, we will explore the various types of values in pyton and how we store values (or, more arruately, 'reference' values) using variables. We will also look at creating epressions using arithemtic, logical, and relational operators.\n",
    "\n",
    "Comments are an essential part of programming. Comments allow you to insert text inside your code without it being processed as code. This allows you to make quick annotations to help communicate what you are doing with the code - this will be beneficial for anyone else that needs to review and edit the code (including your future self). "
   ]
  },
  {
   "cell_type": "markdown",
   "id": "2031248a",
   "metadata": {},
   "source": [
    "> Never underestimate how long your code may last in production! I won a contract to develop an inventory system for a local clothing store while still in my undergraduate program. It was a fun project, and it was great to get paid for something I loved doing. The project was a success; many years later (I believe it was 15+ years later), the store's owner contacted me and wanted to hire me to make some modifications and update the system. I could not believe that the code I wrote as an undergrad 15 years earlier was still in production! Luckily, my code was well commented on, which helped me immensely. (_Dr. Smith_)\n"
   ]
  },
  {
   "cell_type": "markdown",
   "id": "2bf8a817",
   "metadata": {},
   "source": [
    "Python had two ways for you to place comments in your code: 1) as a docstring (which also serves as a way to have other tools, including the python help system) provide users with documentation of you code, 2) inline comments (which as brief comments that you can place on a single line)"
   ]
  },
  {
   "cell_type": "code",
   "execution_count": 1,
   "id": "0e3c1153-cf6b-46cd-ab8b-49778779307c",
   "metadata": {},
   "outputs": [
    {
     "data": {
      "text/plain": [
       "5"
      ]
     },
     "execution_count": 1,
     "metadata": {},
     "output_type": "execute_result"
    }
   ],
   "source": [
    "# This is a single inline comment\n",
    "\n",
    "\"\"\"This is also a comment, but called a DocString\"\"\"\n",
    "\n",
    "\"\"\"Docscripts are used to document functions, classes, and modules. \n",
    "Docstrings can be multi-line.\"\"\"\n",
    "\n",
    "2 + 3 # this is another inline commment. "
   ]
  },
  {
   "cell_type": "markdown",
   "id": "0ce7d943",
   "metadata": {},
   "source": [
    "## 2.0 Using Functions"
   ]
  },
  {
   "cell_type": "code",
   "execution_count": 2,
   "id": "1c8566fd",
   "metadata": {},
   "outputs": [
    {
     "name": "stdout",
     "output_type": "stream",
     "text": [
      "12\n",
      "12 13 14 15\n",
      "12|13|14|15 "
     ]
    }
   ],
   "source": [
    "# Functions in Python are called with parentheses, and may have arguments.\n",
    "# You can think of them like a little machine that takes input and produces output.\n",
    "\n",
    "# For example, the print() function takes input and produces output on the screen.\n",
    "print(12)\n",
    "\n",
    "# The input to the print() function is called an argument. So, in the case above, the argument is 12.\n",
    "\n",
    "# The print() function can take any number of arguments.\n",
    "print(12, 13, 14, 15)\n",
    "\n",
    "# The print() function can also take keyword arguments. These are arguments that have a name, like sep and end.\n",
    "print(12, 13, 14, 15, sep='|', end=' ')"
   ]
  },
  {
   "cell_type": "markdown",
   "id": "919b0660",
   "metadata": {},
   "source": [
    "Python is a dynamically typed language. This means that the type of a variable is determined by the value it is assigned. The type of a variable can be checked using the type() function. The type() function returns the type of the variable passed to it as an argument.\n",
    "\n",
    "Though Python dynamic typing in convenient (we don't need to declare variables, and we can change a variable type at any point), it does create problems if you are not paying attention."
   ]
  },
  {
   "cell_type": "code",
   "execution_count": 3,
   "id": "afde2638",
   "metadata": {},
   "outputs": [],
   "source": [
    "# print = 10 # python will let you do this, but it's a bad idea\n",
    "\n",
    "# print(\"Hello World!\") # print is now 10, it's not longer a function"
   ]
  },
  {
   "cell_type": "markdown",
   "id": "d93fcf06",
   "metadata": {},
   "source": [
    "We will see many more functions in this course. For now, it's important to know the structure of a function and how to call it."
   ]
  },
  {
   "cell_type": "markdown",
   "id": "1d05bd46",
   "metadata": {},
   "source": [
    "\n",
    "> NOTE: \n",
    ">\n",
    "> When using jupyter notebook, we often do not need to use the print function. The last value in a code cell will be printed out. This is useful for debugging or displaying the result of a series of calculations."
   ]
  },
  {
   "cell_type": "markdown",
   "id": "269c1ca0-5096-476b-b2f5-180e0c6a8cbe",
   "metadata": {},
   "source": [
    "## 3.0 Operators"
   ]
  },
  {
   "cell_type": "markdown",
   "id": "26d9e0e3",
   "metadata": {},
   "source": [
    "In programming languages operators are used to perform operations on values. Python has a number of operators that we will explore in this section."
   ]
  },
  {
   "cell_type": "markdown",
   "id": "6fbe409b",
   "metadata": {},
   "source": [
    "### 3.1 Arithemtic Operators #####"
   ]
  },
  {
   "cell_type": "code",
   "execution_count": 4,
   "id": "1c8af557-8221-4a95-999f-7c59af67f64f",
   "metadata": {},
   "outputs": [
    {
     "name": "stdout",
     "output_type": "stream",
     "text": [
      "10\n",
      "10\n",
      "6.666666666666667\n",
      "5\n",
      "0\n"
     ]
    }
   ],
   "source": [
    "print(10)       # assignment\n",
    "print(10 + 1 - 1) # addition and subtraction\n",
    "print(10 * 2 / 3) # multiplication and division\n",
    "print(10 // 2)  # integer division\n",
    "print(10 % 2)   # modulo, or 'remainder' operator"
   ]
  },
  {
   "cell_type": "markdown",
   "id": "9a138760",
   "metadata": {},
   "source": [
    "### 3.2 Relationals Operators ####"
   ]
  },
  {
   "cell_type": "code",
   "execution_count": 5,
   "id": "e30c30ae",
   "metadata": {},
   "outputs": [],
   "source": [
    "a = 10 < 12 # less than operator\n",
    "b = 10 <= 12 # less than or equal to\n",
    "c = 10 > 12 # greater than\n",
    "d = 10 >= 12 # greater than or equal to\n",
    "e = 10 == 12 # equal to\n",
    "f = 10 != 12 # not equal to"
   ]
  },
  {
   "cell_type": "code",
   "execution_count": 6,
   "id": "e364c837",
   "metadata": {},
   "outputs": [
    {
     "name": "stdout",
     "output_type": "stream",
     "text": [
      "True True False False False True\n"
     ]
    }
   ],
   "source": [
    "print(a, b, c, d, e, f)"
   ]
  },
  {
   "cell_type": "markdown",
   "id": "2b7b9da8",
   "metadata": {},
   "source": [
    "#### 3.3 Logical Operators\n",
    "\n",
    "Logical operators tell us something about the logical conclusions of a statement. The result of this operation is either True, or False. "
   ]
  },
  {
   "cell_type": "code",
   "execution_count": 7,
   "id": "25c62b2e",
   "metadata": {},
   "outputs": [
    {
     "name": "stdout",
     "output_type": "stream",
     "text": [
      "False\n",
      "True\n",
      "False\n"
     ]
    }
   ],
   "source": [
    "print(True and False) # logical and\n",
    "print(True or False) # logical or\n",
    "print(not True) # logical not"
   ]
  },
  {
   "cell_type": "markdown",
   "id": "cd42d706",
   "metadata": {},
   "source": [
    "## 4.0 Variables and Types"
   ]
  },
  {
   "cell_type": "code",
   "execution_count": 8,
   "id": "839bfcd9",
   "metadata": {},
   "outputs": [
    {
     "data": {
      "text/plain": [
       "12"
      ]
     },
     "execution_count": 8,
     "metadata": {},
     "output_type": "execute_result"
    }
   ],
   "source": [
    "# Variables are used to store values.\n",
    "\n",
    "# In Python, variables are created when you assign a value to it.\n",
    "x = 10 # x is a variable, and 10 is the value assigned to it.\n",
    "\n",
    "# Variables can be used in calculations.\n",
    "x + 2"
   ]
  },
  {
   "cell_type": "code",
   "execution_count": 9,
   "id": "c52021e2",
   "metadata": {},
   "outputs": [],
   "source": [
    "# Variable and Value Types\n",
    "\n",
    "# In Python, variables can hold different types of values.\n",
    "\n",
    "x = 10 # x is an integer\n",
    "y = 10.0 # y is a float\n",
    "z = '10' # z is a string\n",
    "x = True # x is a boolean # notice that we can reassign a variable to a different type of value"
   ]
  },
  {
   "cell_type": "markdown",
   "id": "c306f9ea",
   "metadata": {},
   "source": [
    "Types indicate to python a number of valuable things; such as, how show the value be stored in memory, what operations are allowed with this value. We can use the builtin function ```type``` to ask python what type of value it is. "
   ]
  },
  {
   "cell_type": "code",
   "execution_count": 10,
   "id": "294bc76d",
   "metadata": {},
   "outputs": [
    {
     "name": "stdout",
     "output_type": "stream",
     "text": [
      "<class 'int'>\n",
      "<class 'float'>\n",
      "<class 'bool'>\n",
      "<class 'bool'>\n",
      "<class 'str'>\n",
      "<class 'float'>\n",
      "<class 'int'>\n"
     ]
    }
   ],
   "source": [
    "print( type(10) ) # int (short for integer)\n",
    "print( type(10.34) ) # float (short for floating point number - which is like a decimal number you might see in math class)\n",
    "print( type(True) ) # bool (short for boolean) - there are only two possible boolean values, True or False\n",
    "print( type(False) ) # bool (short for boolean) \n",
    "print( type(\"Hello\") ) # str (short for string) - a string is a sequence of characters, like a word or a sentence\n",
    "print( type(10 / 3) ) # float (short for floating point number - which is like a decimal number you might see in math class)\n",
    "print( type(10 // 3) ) # int (short for integer) - integer division will always return an integer, even if the answer is a decimal"
   ]
  },
  {
   "cell_type": "markdown",
   "id": "fc02a531",
   "metadata": {},
   "source": [
    "There are many other built-in types in Python. We will see the important \"composite\" data types in a later section (lists, tuples, dictionaries, and sets). "
   ]
  },
  {
   "cell_type": "markdown",
   "id": "05fd9305",
   "metadata": {},
   "source": [
    "## 5.0 Expressions"
   ]
  },
  {
   "cell_type": "code",
   "execution_count": null,
   "id": "9d59ab71",
   "metadata": {},
   "outputs": [],
   "source": [
    "Expressions are combinations of values, variables and operators that follow a set of rules to produce (or calculate) a result. To understand expressions, we need to understand the order of operations.\n",
    "\n",
    "Order of operations is a set of rules that define the order in which operations are performed. The order of operations is as follows:\n",
    "\n",
    "1. Functions\n",
    "2. Parentheses\n",
    "3. Exponents\n",
    "4. Multiplication and Division\n",
    "5. Addition and Subtraction\n",
    "6. Relationals\n",
    "7. Not\n",
    "8. And\n",
    "9. Or"
   ]
  },
  {
   "cell_type": "markdown",
   "id": "de24924b",
   "metadata": {},
   "source": [
    "### 5.1 Arithemtic Expressions ####\n",
    "\n",
    "Arithmetic expressions evaluate to a number. The following are examples of arithmetic expressions:\n"
   ]
  },
  {
   "cell_type": "code",
   "execution_count": 11,
   "id": "4c11645a",
   "metadata": {},
   "outputs": [
    {
     "name": "stdout",
     "output_type": "stream",
     "text": [
      "16.0\n",
      "11.0\n",
      "2.5\n",
      "2\n",
      "4\n"
     ]
    }
   ],
   "source": [
    "print(10 + 12 * 2 / 2 ** 2)\n",
    "print((10 + 12) * 2 / 2 ** 2)\n",
    "print(5 / 2)\n",
    "print(5 // 2)\n",
    "print(5 % 2 + 3)"
   ]
  },
  {
   "cell_type": "markdown",
   "id": "4e94c090",
   "metadata": {},
   "source": [
    "### 5.2 Boolean expressions ####\n",
    "\n",
    "Boolean expressions evaluate to a boolean value (True or False). The following are examples of boolean expressions:"
   ]
  },
  {
   "cell_type": "code",
   "execution_count": 12,
   "id": "1ca0933e",
   "metadata": {},
   "outputs": [
    {
     "name": "stdout",
     "output_type": "stream",
     "text": [
      "False\n",
      "True\n",
      "True\n",
      "False\n",
      "True\n",
      "True\n",
      "True\n"
     ]
    }
   ],
   "source": [
    "print(2 + 3 == 4 + 5)\n",
    "print(2 + 3 != 4 + 5)\n",
    "print(2 + 3 < 4 + 5 < 10)\n",
    "print(True and False)\n",
    "print(True or False)\n",
    "print(not a or b)\n",
    "print((2 * 3) == 7 or (2 * 3) == 6)"
   ]
  },
  {
   "cell_type": "markdown",
   "id": "226e0b59",
   "metadata": {},
   "source": [
    "### 5.3 String expressions   "
   ]
  },
  {
   "cell_type": "markdown",
   "id": "c0f3ccce",
   "metadata": {},
   "source": [
    "String expressions evaluate to a string value. A string is a sequence of characters. The following are examples of string expressions:"
   ]
  },
  {
   "cell_type": "code",
   "execution_count": 13,
   "id": "1e9151f7",
   "metadata": {},
   "outputs": [
    {
     "name": "stdout",
     "output_type": "stream",
     "text": [
      "HelloWorld\n",
      "Hello World\n",
      "Hello World!\n",
      "Hello World!Hello World!Hello World!\n",
      "HelloHello WorldWorld!!HelloHello WorldWorld!!HelloHello WorldWorld!!\n"
     ]
    }
   ],
   "source": [
    "print(\"Hello\" + \"World\")\n",
    "print(\"Hello\" + \" \" + \"World\")\n",
    "print(\"Hello\" + \" \" + \"World\" + \"!\")\n",
    "print((\"Hello\" + \" \" + \"World\" + \"!\") * 3)\n",
    "print((\"Hello\" *2 + \" \" + \"World\"*2 + \"!\"*2) * 3)"
   ]
  },
  {
   "cell_type": "code",
   "execution_count": 14,
   "id": "b1f7668b",
   "metadata": {},
   "outputs": [],
   "source": [
    "#print( \"Hello\" + 2 ) # error: cannot concatenate string and int\n",
    "#print( \"Hello\" * \"World\" ) # error: cannot multiply string and string"
   ]
  },
  {
   "cell_type": "markdown",
   "id": "390251f2",
   "metadata": {},
   "source": [
    "### 5.4 Mixed expressions\n",
    "\n",
    "Mixed expressions can include logical, relationa and arithemtic (and string operators, which we will see late). Like any expression, a mixed expression only produces (or calculates) one result. This result could be a number, a boolean value, or a string. The following are examples of mixed expressions:"
   ]
  },
  {
   "cell_type": "code",
   "execution_count": 15,
   "id": "f790405f",
   "metadata": {},
   "outputs": [
    {
     "name": "stdout",
     "output_type": "stream",
     "text": [
      "True\n",
      "3.4\n",
      "Hello\n",
      "0\n",
      "True\n",
      "Agent 007\n"
     ]
    }
   ],
   "source": [
    "# though it may not seem that it is, we can think of each of the following as an expression. \n",
    "# these are examples of the simplest of expressions, the value itself\n",
    "print( True )\n",
    "print( 3.4 )\n",
    "print( \"Hello\" ) \n",
    "\n",
    "# these are examples of expressions that are more complex, but still evaluate to a single value\n",
    "print(1 + 2 - 3) \n",
    "print(len(\"Hello\")+1 > 2 + 3) \n",
    "print(\"Agent\" + ' ' + \"0\"*2 + str(4+3))\n",
    "\n",
    "# NOTE: the use of str() in the above example. This is because we cannot concatenate a string \n",
    "# and a number; therefore, we must first cast (or convert) the number to a string. To better\n",
    "# understand this, you need to understand the concept of data types."
   ]
  },
  {
   "cell_type": "markdown",
   "id": "1a57b346",
   "metadata": {},
   "source": [
    "### 5.5 Expressions with functions"
   ]
  },
  {
   "cell_type": "code",
   "execution_count": 16,
   "id": "c404a005",
   "metadata": {},
   "outputs": [
    {
     "name": "stdout",
     "output_type": "stream",
     "text": [
      "Hello World\n",
      "15\n",
      "None\n"
     ]
    }
   ],
   "source": [
    "x = len(\"Hello\") * 3    # len() is a function that returns the length of a string\n",
    "y = print(\"Hello\" + \" \" + \"World\")      # note that the print() function does not return a value, so y is None\n",
    "\n",
    "print(x)\n",
    "print(y)"
   ]
  },
  {
   "cell_type": "markdown",
   "id": "6c6a059b",
   "metadata": {},
   "source": [
    "> **Question**: In the above code, we called two print functions. Why is there three outputs?"
   ]
  },
  {
   "cell_type": "markdown",
   "id": "b918725a",
   "metadata": {},
   "source": [
    "## 6.0 Strings "
   ]
  },
  {
   "cell_type": "markdown",
   "id": "612c326d",
   "metadata": {},
   "source": [
    "Now that we've been introduced to the concept of a string, let's see how we can use them in Python. We can create a string by enclosing a sequence of characters in either single or double quotes. We can also use triple quotes to create a string that spans multiple lines."
   ]
  },
  {
   "cell_type": "code",
   "execution_count": 17,
   "id": "332f4b90",
   "metadata": {},
   "outputs": [],
   "source": [
    "a = \"Hello\"\n",
    "b = 'World'\n",
    "c = \"\"\"My name is \n",
    "Computer\"\"\""
   ]
  },
  {
   "cell_type": "code",
   "execution_count": 18,
   "id": "d48cb03e",
   "metadata": {},
   "outputs": [
    {
     "name": "stdout",
     "output_type": "stream",
     "text": [
      "Hello World My name is \n",
      "Computer\n"
     ]
    }
   ],
   "source": [
    "print(a, b, c)"
   ]
  },
  {
   "cell_type": "markdown",
   "id": "533e27ac",
   "metadata": {},
   "source": [
    "### 6.1 String slicing\n",
    "\n",
    "Strings consist of characters. To access individual characters in a string, we can use the index operator `[]`. The index operator takes an integer argument and returns the character at the corresponding position in the string. The first character in a string has index 0, the second character has index 1, and so on. The last character has index -1, the second to last character has index -2, and so on. "
   ]
  },
  {
   "cell_type": "code",
   "execution_count": 19,
   "id": "fc2f2e05",
   "metadata": {},
   "outputs": [
    {
     "name": "stdout",
     "output_type": "stream",
     "text": [
      "H\n",
      "e\n",
      "l\n",
      "l\n",
      "o\n",
      "o\n",
      "l\n",
      "l\n",
      "e\n",
      "H\n"
     ]
    }
   ],
   "source": [
    "s = \"Hello\"\n",
    "\n",
    "print(s[0]) # H\n",
    "print(s[1]) # e\n",
    "print(s[2]) # l\n",
    "print(s[3]) # l\n",
    "print(s[4]) # o\n",
    "print(s[-1]) # o\n",
    "print(s[-2]) # l\n",
    "print(s[-3]) # l\n",
    "print(s[-4]) # e\n",
    "print(s[-5]) # H"
   ]
  },
  {
   "cell_type": "markdown",
   "id": "371445df",
   "metadata": {},
   "source": [
    "We need to be careful not to try to access characters beyond what is in the string. For instance, the following lines of code will produce and index out of range error:"
   ]
  },
  {
   "cell_type": "code",
   "execution_count": 20,
   "id": "0cc9b063",
   "metadata": {},
   "outputs": [],
   "source": [
    "#print(str[5]) # off the end of the string\n",
    "#print(str[-6]) # off the start of the string"
   ]
  },
  {
   "cell_type": "markdown",
   "id": "0c1f7956",
   "metadata": {},
   "source": [
    "Often, we wish to access slices of a string (beyond 1 character)"
   ]
  },
  {
   "cell_type": "code",
   "execution_count": 21,
   "id": "e987e749",
   "metadata": {},
   "outputs": [
    {
     "name": "stdout",
     "output_type": "stream",
     "text": [
      "He\n",
      "llo\n",
      "llo\n",
      "He\n",
      "Hl\n"
     ]
    }
   ],
   "source": [
    "print(s[0:2]) # start at the first character and go up to but not including the third character\n",
    "print(s[2:5]) # start at the third character and go up to but not including the sixth character\n",
    "print(s[2:]) # start at the third character and go to the end of the string\n",
    "print(s[:2]) # start at the first character and go up to but not including the third character\n",
    "print(s[:4:3]) # start at the first character and go up to but not including the fifth character, in steps of 3"
   ]
  },
  {
   "cell_type": "markdown",
   "id": "7e09b452",
   "metadata": {},
   "source": [
    "Some examples of what you cannot do:"
   ]
  },
  {
   "cell_type": "code",
   "execution_count": 22,
   "id": "d6bafe3e",
   "metadata": {},
   "outputs": [],
   "source": [
    "#print( \"Hello\" + 2 ) # error: cannot concatenate string and int\n",
    "#print( \"Hello\" * \"World\" ) # error: cannot multiply string and string"
   ]
  },
  {
   "cell_type": "markdown",
   "id": "c183ee55",
   "metadata": {},
   "source": [
    "### 6.1 Casting (or converting) between data types\n",
    "\n",
    "Often, we would like to 'cast' (aka convert) from one datatype to another."
   ]
  },
  {
   "cell_type": "code",
   "execution_count": 23,
   "id": "2cead5f0",
   "metadata": {},
   "outputs": [
    {
     "name": "stdout",
     "output_type": "stream",
     "text": [
      "10 is my favorite number\n",
      "15\n",
      "5Hello\n",
      "15\n"
     ]
    }
   ],
   "source": [
    "print( str(10) + \" is my favorite number\") # cast the number 10 to a string\n",
    "print( int(\"10\") + 5 ) # cast the string \"10\" to an integer\n",
    "\n",
    "# the following will cause and error. \n",
    "\n",
    "# print(5 + \"Hello\")\n",
    "\n",
    "# If the above expression is considered a string, then 5 is not a string,\n",
    "# and therefore the + (concatenate) will generate and error. If we consider\n",
    "# this is an interger expression, then \"Hello\" is not an integer, and \n",
    "# therefore will results in generating an error.\n",
    "\n",
    "# Solve this problem, we can cast the integer to a string, or the string to an integer.\n",
    "\n",
    "print( str(5) + \"Hello\")\n",
    "print( 5 + int(\"10\") )\n"
   ]
  },
  {
   "cell_type": "markdown",
   "id": "f41338bf",
   "metadata": {},
   "source": [
    "#### 6.2 Format strings\n",
    "\n",
    "There is a special feature in python called f-strings. F strings allow you great control over how variables and text are displayed on the screen. \n",
    "\n",
    "> NOTE: Python has gone through a number of different was in which to format strings. The approach demonstrated here is the latest approach, and is consider the best approach now.m"
   ]
  },
  {
   "cell_type": "code",
   "execution_count": 24,
   "id": "a2668a6b",
   "metadata": {},
   "outputs": [
    {
     "name": "stdout",
     "output_type": "stream",
     "text": [
      "This answer is 10.\n",
      "This is one answer 13, and here is another ansswer 13.4.\n",
      "Some value 12\n",
      "Hello: This is one answer 13, and here is another ansswer 13.4.\n",
      "We can place any expression inside an f-string: 4\n",
      "We can even Place an f-string inside an f-string\n"
     ]
    }
   ],
   "source": [
    "a = f\"This answer is {10}.\" # f-string: The curly braces are placeholders for variables\n",
    "print(a)\n",
    "b = f\"This is one answer {13}, and here is another ansswer {13.4}.\" # we can have multiple placeholders\n",
    "print(b)\n",
    "print(f\"Some value {12}\") # don't necessarily need to assign to a variable, we can simply print the f-string\n",
    "print(f\"Hello: {b}\") # we can place any variable inside an f-string; \n",
    "print(f\"We can place any expression inside an f-string: {2+2}\") # we can place any expression inside an f-string\n",
    "print(f\"We can even {f'Place an f-string inside an f-string'}\") # we can even place an f-string inside an f-string"
   ]
  },
  {
   "cell_type": "markdown",
   "id": "48f2b3dd",
   "metadata": {},
   "source": [
    "#### 6.2.1 Format specifiers ####\n",
    "\n",
    "Where the real power of f-strings starts to show, is when you also include some informataion on how the value inside a curly brace should be displaed. We do this using something called a format specifier -- and it allows us to do things like: 1) specify the number of spaces to display a value within, 2) position the value inside this space as centered, justified left, or justified right, 3) control the number of decimal places in a floating point number, 4) add commas seperators for thousands, and 5) specify leading zero padding. "
   ]
  },
  {
   "cell_type": "code",
   "execution_count": 25,
   "id": "b714fe7e",
   "metadata": {},
   "outputs": [
    {
     "name": "stdout",
     "output_type": "stream",
     "text": [
      "This is the left||         2||and this is the right\n",
      "This is the left||ism       ||and this is the right\n",
      "This is the left||    2     ||and this is the right\n",
      "This is the left||2         ||and this is the right\n",
      "This is the left||       ism||and this is the right\n"
     ]
    }
   ],
   "source": [
    "print(f\"This is the left||{2:10}||and this is the right\") # we can specify the width of the field; numbers are justigned to the right\n",
    "print(f\"This is the left||{'ism':10}||and this is the right\") # strings are justified to the left\n",
    "print(f\"This is the left||{2:^10}||and this is the right\") # we can overwright the default justification by using the ^ symbol to center the value\n",
    "print(f\"This is the left||{2:<10}||and this is the right\") # we can use the < symbol to left justify the value\n",
    "print(f\"This is the left||{'ism':>10}||and this is the right\") # we can use the > symbol to right justify the value"
   ]
  },
  {
   "cell_type": "markdown",
   "id": "5ff95bf5",
   "metadata": {},
   "source": [
    "There is another part of a format specifier, and that is the type of valaue. Often you do not need to include this, as python does a good job at guessing. There are times though where isn't necessary to include in the format specifier information as to the type of value."
   ]
  },
  {
   "cell_type": "code",
   "execution_count": 26,
   "id": "cb483c46",
   "metadata": {},
   "outputs": [
    {
     "name": "stdout",
     "output_type": "stream",
     "text": [
      "This is the left||      0.33||and this is the right\n"
     ]
    }
   ],
   "source": [
    "print(f\"This is the left||{1/3:10.2f}||and this is the right\") # display only two decimal places for a float"
   ]
  },
  {
   "cell_type": "markdown",
   "id": "d3272391",
   "metadata": {},
   "source": [
    "### 6.3 String Methods"
   ]
  },
  {
   "cell_type": "markdown",
   "id": "4eb312d3",
   "metadata": {},
   "source": [
    "Methods are like functions, but they are attached to objects. We will discuss objects more later, but for now, we should know that since strings are objects, they have methods available to them. We can call these methods using the dot notation, which is just the name of the object, followed by a dot, and then the name of the method. For example, we can use the method to change the case of certain characters in the string."
   ]
  },
  {
   "cell_type": "code",
   "execution_count": 27,
   "id": "3df9e3b6",
   "metadata": {},
   "outputs": [
    {
     "name": "stdout",
     "output_type": "stream",
     "text": [
      "UPPER CASE LETTERS\n",
      "lower case letters\n",
      "Title Case Letters\n",
      "Capitalise first letter\n",
      "sWAP CASE LETTERS\n"
     ]
    }
   ],
   "source": [
    "print(\"Upper case letters\".upper())\n",
    "print(\"Lower case letters\".lower())\n",
    "print(\"Title case letters\".title())\n",
    "print(\"Capitalise first letter\".capitalize())\n",
    "print(\"Swap case letters\".swapcase())\n"
   ]
  },
  {
   "cell_type": "code",
   "execution_count": 28,
   "id": "5b2c1298",
   "metadata": {},
   "outputs": [
    {
     "name": "stdout",
     "output_type": "stream",
     "text": [
      "Hello World\n",
      "HELLO WORLD\n"
     ]
    }
   ],
   "source": [
    "# Note: These string methods are non-destructive, meaning they do not change the original string.\n",
    "\n",
    "s = \"Hello World\"\n",
    "s.upper()\n",
    "print(s)\n",
    "\n",
    "# if we want to save the upper case version of the string, we would do the following\n",
    "s_upper = s.upper()\n",
    "print(s_upper)"
   ]
  },
  {
   "cell_type": "markdown",
   "id": "cd2a4fa7-7cfe-4292-8f76-7f4be064b25f",
   "metadata": {
    "tags": []
   },
   "source": [
    "## 7.0 Python builtin Composite Datatypes"
   ]
  },
  {
   "cell_type": "markdown",
   "id": "201a5b31",
   "metadata": {},
   "source": [
    "Composite datatypes are datatypes that contain multiple values. "
   ]
  },
  {
   "cell_type": "markdown",
   "id": "dbf0f3da-fe52-42b5-aaa1-76d0aa1cded8",
   "metadata": {},
   "source": [
    "### 7.1 lists"
   ]
  },
  {
   "cell_type": "markdown",
   "id": "51a7f88e",
   "metadata": {},
   "source": [
    "Lists a one of the many builtin composite data types in python. It's frequently used in machine learning. Also, ideas such as indexing and slicing are important to understand - as they will be expanded upon in later discussions of datatypes sach as arrays and dataframes."
   ]
  },
  {
   "cell_type": "markdown",
   "id": "6e979b86",
   "metadata": {},
   "source": [
    "#### 7.1.1 - Creating a list\n",
    "\n",
    "A list is a squence of values. A list can include any valid data type."
   ]
  },
  {
   "cell_type": "code",
   "execution_count": 29,
   "id": "8497f897-52dd-4bb0-b3c3-4c198aba61a9",
   "metadata": {},
   "outputs": [],
   "source": [
    "a_list_1 = [1, 2, 3] # list of integers\n",
    "a_list_2 = [1.0, 2.0, 3.0] # list of floats\n",
    "a_list_3 = [\"1\", \"2\", \"3\"] # list of strings\n",
    "a_list_4 = [1, 2.12, \"3.45\"] # list of mixed data types (we can put anything in a list)\n",
    "a_list_5 = [[1,2,3], [4,5,6]] # list of lists"
   ]
  },
  {
   "cell_type": "markdown",
   "id": "1ad24517-7d59-4b20-9817-02e78d4b1c06",
   "metadata": {},
   "source": [
    "#### 7.1.2 Accessing Elements of a List"
   ]
  },
  {
   "cell_type": "markdown",
   "id": "d2975796",
   "metadata": {},
   "source": [
    "To access elements in a list, we use an index. "
   ]
  },
  {
   "cell_type": "code",
   "execution_count": 30,
   "id": "3cc32adf-d099-418e-9629-9c6b5804c101",
   "metadata": {},
   "outputs": [
    {
     "data": {
      "text/plain": [
       "2"
      ]
     },
     "execution_count": 30,
     "metadata": {},
     "output_type": "execute_result"
    }
   ],
   "source": [
    "a_list_1[1]"
   ]
  },
  {
   "cell_type": "markdown",
   "id": "3b1c16b3",
   "metadata": {},
   "source": [
    "Notice that we used 1 as the index to the value we want from the list. But, this didn't return the first value of the list. This is because indices in python (and all other languages that I've seen, with the exception of R) begin at zero.\n",
    "\n",
    "> Though this may seem strange to start at zero; but think of it this way. If we were on the 5th floor of a building, how many floors up would we be? We would be 4 floors up. Indices are like 'how many floors up' are we. Indices represent a distance into the list. So, like the first floor being zero floors up, the first element in a list is 0 elements in."
   ]
  },
  {
   "cell_type": "code",
   "execution_count": 31,
   "id": "05689c04-416f-45a0-a054-b858fbcd5ce2",
   "metadata": {},
   "outputs": [
    {
     "data": {
      "text/plain": [
       "1"
      ]
     },
     "execution_count": 31,
     "metadata": {},
     "output_type": "execute_result"
    }
   ],
   "source": [
    "a_list_1[0]"
   ]
  },
  {
   "cell_type": "markdown",
   "id": "33e910fb",
   "metadata": {},
   "source": [
    "If we try to use an index that's outside of the list range of elements, then python will throw an index out of range error."
   ]
  },
  {
   "cell_type": "code",
   "execution_count": 32,
   "id": "09035c1a-ef84-4fd8-bf8b-8925bfad8891",
   "metadata": {},
   "outputs": [],
   "source": [
    "#a_list_1[3] # uncomment this line to see the error"
   ]
  },
  {
   "cell_type": "markdown",
   "id": "40051ead",
   "metadata": {},
   "source": [
    "Index values must be whole numbers, but the can be negative. \n",
    "\n",
    "In python a negative index means that we start from the end of the list and move to the front of the list."
   ]
  },
  {
   "cell_type": "code",
   "execution_count": 33,
   "id": "0f993310-14bf-4d4c-802b-877c42d348d6",
   "metadata": {},
   "outputs": [
    {
     "data": {
      "text/plain": [
       "3"
      ]
     },
     "execution_count": 33,
     "metadata": {},
     "output_type": "execute_result"
    }
   ],
   "source": [
    "a_list_1[-1]"
   ]
  },
  {
   "cell_type": "markdown",
   "id": "745f83c0",
   "metadata": {},
   "source": [
    "But, we must also be careful not to go out of range."
   ]
  },
  {
   "cell_type": "code",
   "execution_count": 34,
   "id": "00f3a2af",
   "metadata": {},
   "outputs": [],
   "source": [
    "#a_list_1[-4] # uncomment this line to see the error"
   ]
  },
  {
   "cell_type": "markdown",
   "id": "9e59c1a9",
   "metadata": {},
   "source": [
    "#### 7.1.3 Index Slicing\n",
    "\n",
    "Now that we've seen how we select a single element from a list using indexing, let's look at how we can select multiple items at once using index slicing."
   ]
  },
  {
   "cell_type": "code",
   "execution_count": 35,
   "id": "e971278f-431f-4ef1-8464-848212f63631",
   "metadata": {},
   "outputs": [
    {
     "data": {
      "text/plain": [
       "[1, 2]"
      ]
     },
     "execution_count": 35,
     "metadata": {},
     "output_type": "execute_result"
    }
   ],
   "source": [
    "a_list_1[:2] # first two elements"
   ]
  },
  {
   "cell_type": "code",
   "execution_count": 36,
   "id": "62100732-2d52-4074-a3c2-68c537760891",
   "metadata": {},
   "outputs": [
    {
     "data": {
      "text/plain": [
       "[2, 3]"
      ]
     },
     "execution_count": 36,
     "metadata": {},
     "output_type": "execute_result"
    }
   ],
   "source": [
    "a_list_1[1:3] # second and third elements"
   ]
  },
  {
   "cell_type": "code",
   "execution_count": 37,
   "id": "2d73816d-5d52-4303-902e-6eed59ef7c1e",
   "metadata": {},
   "outputs": [
    {
     "data": {
      "text/plain": [
       "[2, 3]"
      ]
     },
     "execution_count": 37,
     "metadata": {},
     "output_type": "execute_result"
    }
   ],
   "source": [
    "a_list_1[1:] # second element to the end"
   ]
  },
  {
   "cell_type": "code",
   "execution_count": 38,
   "id": "fda5bf60-327f-4119-abae-7e18ce36fd99",
   "metadata": {},
   "outputs": [
    {
     "data": {
      "text/plain": [
       "[1, 3]"
      ]
     },
     "execution_count": 38,
     "metadata": {},
     "output_type": "execute_result"
    }
   ],
   "source": [
    "a_list_1[::2] # every other element"
   ]
  },
  {
   "cell_type": "code",
   "execution_count": 39,
   "id": "8c93dff8-a5a9-4a04-bbb1-cdbac4dac7a3",
   "metadata": {},
   "outputs": [
    {
     "data": {
      "text/plain": [
       "[3, 2, 1]"
      ]
     },
     "execution_count": 39,
     "metadata": {},
     "output_type": "execute_result"
    }
   ],
   "source": [
    "a_list_1[::-1] # "
   ]
  },
  {
   "cell_type": "markdown",
   "id": "8d3eb988-eb3c-4a5f-bb6c-bccb71dd98e4",
   "metadata": {},
   "source": [
    "#### 7.1.4 Lists of Lists (multi-dimensional lists)"
   ]
  },
  {
   "cell_type": "code",
   "execution_count": 40,
   "id": "de586665-e12a-401a-b7ec-240c66735e48",
   "metadata": {
    "tags": []
   },
   "outputs": [],
   "source": [
    "a_list_5 = [[1, 2, 3], [1.0, 2.0, 3.0],  [\"1\", \"2\", \"3\"] ] # creating a list of lists"
   ]
  },
  {
   "cell_type": "code",
   "execution_count": 41,
   "id": "d93d2656-1c3a-44cd-93c2-de6b510a2e60",
   "metadata": {},
   "outputs": [
    {
     "data": {
      "text/plain": [
       "1"
      ]
     },
     "execution_count": 41,
     "metadata": {},
     "output_type": "execute_result"
    }
   ],
   "source": [
    "a_list_5[0][0] # slicing a list of lists (first item in the first list in the list)"
   ]
  },
  {
   "cell_type": "code",
   "execution_count": 42,
   "id": "858cba07-6359-4106-ae0c-e64c16187bfc",
   "metadata": {},
   "outputs": [
    {
     "data": {
      "text/plain": [
       "[[1, 2, 3], [1.0, 2.0, 3.0]]"
      ]
     },
     "execution_count": 42,
     "metadata": {},
     "output_type": "execute_result"
    }
   ],
   "source": [
    "a_list_5[0:2] # a slice of the list of lists"
   ]
  },
  {
   "cell_type": "code",
   "execution_count": 43,
   "id": "a1f5bf75-4f3c-4efd-ad65-3236f9eb2b00",
   "metadata": {},
   "outputs": [
    {
     "data": {
      "text/plain": [
       "[1.0, 2.0, 3.0]"
      ]
     },
     "execution_count": 43,
     "metadata": {},
     "output_type": "execute_result"
    }
   ],
   "source": [
    "a_list_5[1] # select the second list"
   ]
  },
  {
   "cell_type": "code",
   "execution_count": 44,
   "id": "5cb092dc-82d6-4fd5-a725-487e76e2366e",
   "metadata": {},
   "outputs": [
    {
     "data": {
      "text/plain": [
       "[2.0, 3.0]"
      ]
     },
     "execution_count": 44,
     "metadata": {},
     "output_type": "execute_result"
    }
   ],
   "source": [
    "a_list_5[1][1:3] # select second list, and then select the items from index 1 up to but not including index 3"
   ]
  },
  {
   "cell_type": "markdown",
   "id": "30621723-d6a7-46c4-a9ea-e47826ec6cf4",
   "metadata": {},
   "source": [
    "#### 7.1.5 Changing list elements\n",
    "\n",
    "A list is a mutable data type, meaning that we can change the values in the list after it has been created."
   ]
  },
  {
   "cell_type": "code",
   "execution_count": 45,
   "id": "54db2ff3-936d-46c1-8b10-67d4df0b40e3",
   "metadata": {},
   "outputs": [
    {
     "name": "stdout",
     "output_type": "stream",
     "text": [
      "[1, 2, 3]\n"
     ]
    }
   ],
   "source": [
    "print(a_list_1)"
   ]
  },
  {
   "cell_type": "code",
   "execution_count": 46,
   "id": "0efb3222-4047-4756-8649-c1750cbaac37",
   "metadata": {},
   "outputs": [
    {
     "name": "stdout",
     "output_type": "stream",
     "text": [
      "[123, 2, 3]\n"
     ]
    }
   ],
   "source": [
    "a_list_1[0] = 123\n",
    "print(a_list_1)"
   ]
  },
  {
   "cell_type": "code",
   "execution_count": 47,
   "id": "f830a8bc-af17-4982-b650-5112767ea2b5",
   "metadata": {},
   "outputs": [
    {
     "name": "stdout",
     "output_type": "stream",
     "text": [
      "[[1, 2, 3], [1.0, 2.0, 3.0], ['1', '2', '3']]\n"
     ]
    }
   ],
   "source": [
    "print(a_list_5)"
   ]
  },
  {
   "cell_type": "code",
   "execution_count": 48,
   "id": "cb7182c4-319b-4524-824e-d21c00406b69",
   "metadata": {},
   "outputs": [
    {
     "name": "stdout",
     "output_type": "stream",
     "text": [
      "[[10, 11], [1.0, 2.0, 3.0], ['1', '2', '3']]\n"
     ]
    }
   ],
   "source": [
    "a_list_5[0] = [10, 11]\n",
    "print(a_list_5)"
   ]
  },
  {
   "cell_type": "code",
   "execution_count": 49,
   "id": "fa57e62e-9989-4645-89fa-c21c171e087f",
   "metadata": {},
   "outputs": [
    {
     "name": "stdout",
     "output_type": "stream",
     "text": [
      "[[1, 2, 3], [4, 5, 6], ['1', '2', '3']]\n"
     ]
    }
   ],
   "source": [
    "a_list_5[0:2] = [[1,2,3], [4,5,6]]\n",
    "print(a_list_5)"
   ]
  },
  {
   "cell_type": "markdown",
   "id": "0d9e4f02",
   "metadata": {},
   "source": [
    "We can think of a list variable name as a reference to a block of memory in the computer. If we make one list equal another, then we are simply saying that these two variable names point to the same block of memory. Most times, you don't even need to think about this - but if we attempt to change the contents of one list, then we are changing the contents of the other list as well. This is because they are both pointing to the same block of memory.\n",
    "\n",
    "To address this, we need to make a copy of the list. We have three approaches to making copies of a list."
   ]
  },
  {
   "cell_type": "code",
   "execution_count": 50,
   "id": "2d96c93b-6bfe-4d3b-b069-7c0e111f2785",
   "metadata": {},
   "outputs": [],
   "source": [
    "x = list(a_list_1) # creates a new copy of the list\n",
    "y = a_list_1[:] # slices the entire list, and thus creates a new copy\n",
    "z = a_list_1.copy() # calling the copy method (a method is like a function that is attached to an object)"
   ]
  },
  {
   "cell_type": "code",
   "execution_count": 51,
   "id": "4642980b-0705-491d-88f2-a5b6cf99b8ad",
   "metadata": {},
   "outputs": [
    {
     "name": "stdout",
     "output_type": "stream",
     "text": [
      "[123, 2, 3]\n",
      "[123, 2, 3]\n",
      "[123, 2, 3]\n",
      "[123, 2, 3]\n"
     ]
    }
   ],
   "source": [
    "print(a_list_1)\n",
    "print(x)\n",
    "print(y)\n",
    "print(z)"
   ]
  },
  {
   "cell_type": "code",
   "execution_count": 52,
   "id": "f51eb51c-0294-4097-beef-e08fecb89d80",
   "metadata": {},
   "outputs": [],
   "source": [
    "x[0] = 1"
   ]
  },
  {
   "cell_type": "code",
   "execution_count": 53,
   "id": "92c1db22-dcf0-45c7-83b0-b090f502e8e7",
   "metadata": {},
   "outputs": [
    {
     "name": "stdout",
     "output_type": "stream",
     "text": [
      "[123, 2, 3]\n",
      "[1, 2, 3]\n",
      "[123, 2, 3]\n",
      "[123, 2, 3]\n"
     ]
    }
   ],
   "source": [
    "print(a_list_1)\n",
    "print(x) # notice that it's only the list x that is changes\n",
    "print(y)\n",
    "print(z)"
   ]
  },
  {
   "cell_type": "markdown",
   "id": "f242ab67-ce90-448a-ac94-29422a69b201",
   "metadata": {},
   "source": [
    "#### 7.1.6 List operations"
   ]
  },
  {
   "cell_type": "markdown",
   "id": "6475b206-c357-4032-ad77-e3adc4bc41f0",
   "metadata": {},
   "source": [
    "##### 7.1.6.1 Concatenation"
   ]
  },
  {
   "cell_type": "code",
   "execution_count": 54,
   "id": "226940c4-eae9-499c-886f-dfe2ade79df2",
   "metadata": {},
   "outputs": [
    {
     "name": "stdout",
     "output_type": "stream",
     "text": [
      "[1.0, 2.0, 3.0]\n"
     ]
    }
   ],
   "source": [
    "print(a_list_2)"
   ]
  },
  {
   "cell_type": "code",
   "execution_count": 55,
   "id": "58145315-bc17-4ade-9c7f-3cca1584a3fe",
   "metadata": {},
   "outputs": [
    {
     "data": {
      "text/plain": [
       "[1.0, 2.0, 3.0, 199, 200]"
      ]
     },
     "execution_count": 55,
     "metadata": {},
     "output_type": "execute_result"
    }
   ],
   "source": [
    "a_list_2 + [199,200]"
   ]
  },
  {
   "cell_type": "code",
   "execution_count": 56,
   "id": "2fc989d1-af22-4511-87c6-317d153197de",
   "metadata": {},
   "outputs": [
    {
     "data": {
      "text/plain": [
       "[1.0, 2.0, 3.0]"
      ]
     },
     "execution_count": 56,
     "metadata": {},
     "output_type": "execute_result"
    }
   ],
   "source": [
    "a_list_2"
   ]
  },
  {
   "cell_type": "code",
   "execution_count": 57,
   "id": "694b9df8-35d1-48fa-aedb-d91f2d56d2c6",
   "metadata": {},
   "outputs": [],
   "source": [
    "a_list_2 = a_list_2 + [199,200]"
   ]
  },
  {
   "cell_type": "code",
   "execution_count": 58,
   "id": "92197b93-e290-4062-a68b-f8debbec218a",
   "metadata": {},
   "outputs": [
    {
     "data": {
      "text/plain": [
       "[1.0, 2.0, 3.0, 199, 200]"
      ]
     },
     "execution_count": 58,
     "metadata": {},
     "output_type": "execute_result"
    }
   ],
   "source": [
    "a_list_2"
   ]
  },
  {
   "cell_type": "markdown",
   "id": "70f0dc07-4fc1-49f3-9d77-6bd1f1dc7924",
   "metadata": {},
   "source": [
    "##### 7.1.6.2 Repetition"
   ]
  },
  {
   "cell_type": "code",
   "execution_count": 59,
   "id": "7f38995b-ac99-49f3-bbd3-c245fce72cb4",
   "metadata": {},
   "outputs": [
    {
     "data": {
      "text/plain": [
       "['1', '2', '3', '1', '2', '3', '1', '2', '3', '1', '2', '3']"
      ]
     },
     "execution_count": 59,
     "metadata": {},
     "output_type": "execute_result"
    }
   ],
   "source": [
    "a_list_3 * 4"
   ]
  },
  {
   "cell_type": "code",
   "execution_count": 60,
   "id": "6801a3bc-27d2-4bce-af0e-003a1883d90e",
   "metadata": {},
   "outputs": [
    {
     "data": {
      "text/plain": [
       "[1.0, 2.0, 3.0, 199, 200]"
      ]
     },
     "execution_count": 60,
     "metadata": {},
     "output_type": "execute_result"
    }
   ],
   "source": [
    "a_list_2 "
   ]
  },
  {
   "cell_type": "code",
   "execution_count": 61,
   "id": "8729ce83-cc87-4465-93fd-a5bfe2d540ee",
   "metadata": {},
   "outputs": [
    {
     "data": {
      "text/plain": [
       "3.0"
      ]
     },
     "execution_count": 61,
     "metadata": {},
     "output_type": "execute_result"
    }
   ],
   "source": [
    "a_list_2.pop(2)"
   ]
  },
  {
   "cell_type": "code",
   "execution_count": 62,
   "id": "5d24137f-7e0d-4229-8a12-2ec1da1d46bc",
   "metadata": {},
   "outputs": [
    {
     "data": {
      "text/plain": [
       "[1.0, 2.0, 199, 200]"
      ]
     },
     "execution_count": 62,
     "metadata": {},
     "output_type": "execute_result"
    }
   ],
   "source": [
    "a_list_2"
   ]
  },
  {
   "cell_type": "code",
   "execution_count": 63,
   "id": "c2f11d8a-0699-42c5-8dde-09c524951fd7",
   "metadata": {},
   "outputs": [
    {
     "name": "stdout",
     "output_type": "stream",
     "text": [
      "[2.0, 199, 200]\n"
     ]
    }
   ],
   "source": [
    "del(a_list_2[0])\n",
    "print(a_list_2)"
   ]
  },
  {
   "cell_type": "code",
   "execution_count": 64,
   "id": "57160a06-6779-4f48-ac95-3f1b8d4d3b34",
   "metadata": {},
   "outputs": [
    {
     "data": {
      "text/plain": [
       "[2.0, 200]"
      ]
     },
     "execution_count": 64,
     "metadata": {},
     "output_type": "execute_result"
    }
   ],
   "source": [
    "a_list_2.remove(199) # removes the first occurance of the value\n",
    "a_list_2"
   ]
  },
  {
   "cell_type": "markdown",
   "id": "8b7177f1",
   "metadata": {},
   "source": [
    "Lists also have a number of useful methods. For example, the append method adds a new element to the end of a list:"
   ]
  },
  {
   "cell_type": "code",
   "execution_count": 65,
   "id": "2217cf91",
   "metadata": {},
   "outputs": [
    {
     "name": "stdout",
     "output_type": "stream",
     "text": [
      "[1, 2, 3, 4]\n",
      "[1, 2, 3, 4, [5, 6]]\n"
     ]
    }
   ],
   "source": [
    "a_list = [1,2,3]\n",
    "a_list.append(4)\n",
    "print(a_list)\n",
    "\n",
    "a_list.append([5,6]) # notice that I'm appending a list, therefore the list is nested\n",
    "print(a_list)"
   ]
  },
  {
   "cell_type": "markdown",
   "id": "f635b19c-9df0-47ad-a52b-77d710f14a62",
   "metadata": {
    "tags": []
   },
   "source": [
    "### 7.2 Dictionaries "
   ]
  },
  {
   "cell_type": "markdown",
   "id": "b5f40f2d-5e37-4fde-8cf7-7c3ff48694f9",
   "metadata": {},
   "source": [
    "Dictionaries are another popular composite type in python. Dictionaries are used often in machine learning so it's important that you are comfortable with working with dictionaries.\n",
    "\n",
    "Like lists, dictionaries store values. Unlike lists, dictionaries allow you to specify a key that is use access the value. With lists, we can only access values using indexes. With dictionaries, we can access values using any key we'd like. "
   ]
  },
  {
   "cell_type": "code",
   "execution_count": 66,
   "id": "6e1d34a2",
   "metadata": {},
   "outputs": [],
   "source": [
    "a_dict = {\"key1\": \"value1\", \"key2\": \"value2\", \"key3\": \"value3\"}"
   ]
  },
  {
   "cell_type": "markdown",
   "id": "3bea8ca9",
   "metadata": {},
   "source": [
    "#### 7.2.1 Accessing values in a dictionary"
   ]
  },
  {
   "cell_type": "code",
   "execution_count": 67,
   "id": "80716d81",
   "metadata": {},
   "outputs": [
    {
     "data": {
      "text/plain": [
       "'value1'"
      ]
     },
     "execution_count": 67,
     "metadata": {},
     "output_type": "execute_result"
    }
   ],
   "source": [
    "a_dict[\"key1\"] # access the value of the key \"key1\""
   ]
  },
  {
   "cell_type": "markdown",
   "id": "d8caeb9f",
   "metadata": {},
   "source": [
    "But, what about attempts to access a key value that doesn't exist in the dictionary? (it will generate an error!)"
   ]
  },
  {
   "cell_type": "code",
   "execution_count": 68,
   "id": "cea28a50",
   "metadata": {},
   "outputs": [],
   "source": [
    "# a_dict['some key that does not exist'] # uncomment this line to see the error"
   ]
  },
  {
   "cell_type": "markdown",
   "id": "bad87037",
   "metadata": {},
   "source": [
    "We can avoid this by using the get value method."
   ]
  },
  {
   "cell_type": "code",
   "execution_count": 69,
   "id": "8973f872",
   "metadata": {},
   "outputs": [],
   "source": [
    "a_dict.get(\"some key that doesn't exist\", None) # returns None if the key does not exist, rather than throwing an error"
   ]
  },
  {
   "cell_type": "markdown",
   "id": "8ce257a0",
   "metadata": {},
   "source": [
    "#### 7.2.2 Dictionary Keys"
   ]
  },
  {
   "cell_type": "markdown",
   "id": "3c2118e3",
   "metadata": {},
   "source": [
    "\n",
    "Common key values are strings. "
   ]
  },
  {
   "cell_type": "code",
   "execution_count": 70,
   "id": "ea984d53",
   "metadata": {},
   "outputs": [],
   "source": [
    "a_dict = {\"key1\": \"value1\", \"key2\": \"value2\", \"key3\": \"value3\"}\n",
    "b_dict = {\"apples\": 3, \"oranges\":5, \"bananas\":2}"
   ]
  },
  {
   "cell_type": "markdown",
   "id": "14786406",
   "metadata": {},
   "source": [
    "We can use other key types, such as integers"
   ]
  },
  {
   "cell_type": "code",
   "execution_count": 71,
   "id": "aa599dc2",
   "metadata": {},
   "outputs": [],
   "source": [
    "a_dict = {1: \"value1\", 2: \"value2\", 3: \"value3\"}"
   ]
  },
  {
   "cell_type": "markdown",
   "id": "fda83314",
   "metadata": {},
   "source": [
    "We cannot use a mutable object as a key in a dictionary. For example, we cannot use a list as a key in a dictionary."
   ]
  },
  {
   "cell_type": "code",
   "execution_count": 72,
   "id": "7fd318a2",
   "metadata": {},
   "outputs": [],
   "source": [
    "# the following is not allowed\n",
    "# a_dict = {1: \"value1\", 2: \"value2\", 3: \"value3\", [1,2,3]: \"value4\"} # the third key is a mmutable object, so it cannot be used as a key"
   ]
  },
  {
   "cell_type": "markdown",
   "id": "afdf4fe7",
   "metadata": {},
   "source": [
    "Note that a tuple is a immutable list, so tuble objects can be used as keys"
   ]
  },
  {
   "cell_type": "code",
   "execution_count": 73,
   "id": "7cf9aa5a",
   "metadata": {},
   "outputs": [],
   "source": [
    "a_dict = {1: \"value1\", 2: \"value2\", 3: \"value3\", (1,2,3): \"value4\"} # the third key is a mmutable object, so it cannot be used as a key"
   ]
  },
  {
   "cell_type": "markdown",
   "id": "07049b23",
   "metadata": {},
   "source": [
    "##### 7.2.2.3 Immutable versus mutable objects\n",
    "\n",
    "Immutable objects cannot be changed after they are created. Examples of immutable objects are integers, floating point numbers, strings, and tuples. Mutable objects can be changed after they are created. Examples of mutable objects are lists and dictionaries.\n",
    "\n",
    "Take a look at the following examples"
   ]
  },
  {
   "cell_type": "code",
   "execution_count": 74,
   "id": "d4fc9fbe",
   "metadata": {},
   "outputs": [
    {
     "name": "stdout",
     "output_type": "stream",
     "text": [
      "2 1\n",
      "[0, 2, 3] [0, 2, 3]\n"
     ]
    }
   ],
   "source": [
    "# immutable examples\n",
    "a = 1\n",
    "b = a\n",
    "a = 2  # a is now 2, b is still 1\n",
    "print(a, b)\n",
    "\n",
    "\n",
    "# mutable\n",
    "a = [1, 2, 3]\n",
    "b = a\n",
    "a[0] = 0  # a and b are now [0, 2, 3]\n",
    "print(a, b)\n"
   ]
  },
  {
   "cell_type": "markdown",
   "id": "2af6fd98",
   "metadata": {},
   "source": [
    "#### 7.2.3 Dictionary Values"
   ]
  },
  {
   "cell_type": "markdown",
   "id": "e5f2e727",
   "metadata": {},
   "source": [
    "Values in dictionaries can be any python object, even mutable objects"
   ]
  },
  {
   "cell_type": "code",
   "execution_count": 75,
   "id": "c61a2c2a",
   "metadata": {},
   "outputs": [],
   "source": [
    "a_dict = {1: \"value1\", 2: \"value2\", 3: [1,2,\"hello\"]} # note that the third value is a mutable object"
   ]
  },
  {
   "cell_type": "markdown",
   "id": "b510d0c7",
   "metadata": {},
   "source": [
    "#### 7.2.4 Changing the value of a dictionary"
   ]
  },
  {
   "cell_type": "markdown",
   "id": "35f569be-b713-4e2d-b262-6f4b339ae0bc",
   "metadata": {},
   "source": [
    "We can easily update an existing value associated with a key as follows..."
   ]
  },
  {
   "cell_type": "code",
   "execution_count": 76,
   "id": "c8f32fd3-b14b-490d-9051-49b91d12b9f5",
   "metadata": {},
   "outputs": [],
   "source": [
    "a_dict = {1: \"value1\", 2: \"value2\", 3: [1,2,\"hello\"]}\n",
    "a_dict[1] = \"val1\""
   ]
  },
  {
   "cell_type": "markdown",
   "id": "2e80dcf3",
   "metadata": {},
   "source": [
    "#### 7.2.5 Adding to a dictionary"
   ]
  },
  {
   "cell_type": "markdown",
   "id": "08d067da",
   "metadata": {},
   "source": [
    "We can add a new key value pair to an existing dictionary simply by using a new key and assigning it a value. "
   ]
  },
  {
   "cell_type": "code",
   "execution_count": 77,
   "id": "71576248",
   "metadata": {},
   "outputs": [],
   "source": [
    "a_dict[\"a new key\"] = \"value4\""
   ]
  },
  {
   "cell_type": "markdown",
   "id": "8d45caa6",
   "metadata": {},
   "source": [
    "Note that we can also mix the data types of the keys used in a dictionary; therefore we can do the following:"
   ]
  },
  {
   "cell_type": "code",
   "execution_count": 78,
   "id": "74bbdff3",
   "metadata": {},
   "outputs": [],
   "source": [
    "a_dict = {1: \"value1\", \"key 2\": \"value2\", 3: \"value 3\"} # note that we've mixed the key types "
   ]
  },
  {
   "cell_type": "markdown",
   "id": "615167cb",
   "metadata": {},
   "source": [
    "#### 7.2.6 Deleting a value from a dictionary"
   ]
  },
  {
   "cell_type": "code",
   "execution_count": 79,
   "id": "630482f1",
   "metadata": {},
   "outputs": [],
   "source": [
    "a_dict = {1: \"value1\", \"key 2\": \"value2\", 3: \"value 3\"}\n",
    "del(a_dict[1])"
   ]
  },
  {
   "cell_type": "markdown",
   "id": "28610e0f",
   "metadata": {},
   "source": [
    "### 7.3 The 'in' operator"
   ]
  },
  {
   "cell_type": "markdown",
   "id": "a37f2eb8",
   "metadata": {},
   "source": [
    "There is another relational operator that we haven't covered yet, the 'in' operation.\n",
    "\n",
    "The 'in' operator is a convenient was of asking the question if some value is inside some other composite datatype. It's an example of a relational operator that returns a boolean value."
   ]
  },
  {
   "cell_type": "code",
   "execution_count": 80,
   "id": "5333075c",
   "metadata": {},
   "outputs": [
    {
     "data": {
      "text/plain": [
       "True"
      ]
     },
     "execution_count": 80,
     "metadata": {},
     "output_type": "execute_result"
    }
   ],
   "source": [
    "1 in [1,2,3] # is 1 in the list?"
   ]
  },
  {
   "cell_type": "code",
   "execution_count": 81,
   "id": "26c97ac7",
   "metadata": {},
   "outputs": [
    {
     "data": {
      "text/plain": [
       "True"
      ]
     },
     "execution_count": 81,
     "metadata": {},
     "output_type": "execute_result"
    }
   ],
   "source": [
    "\"hello\" in [\"hello\", \"world\"] # is \"hello\" in the list?"
   ]
  },
  {
   "cell_type": "code",
   "execution_count": 82,
   "id": "54850f39",
   "metadata": {},
   "outputs": [
    {
     "data": {
      "text/plain": [
       "True"
      ]
     },
     "execution_count": 82,
     "metadata": {},
     "output_type": "execute_result"
    }
   ],
   "source": [
    "\"llo\" in \"Hello World\" # is \"llo\" in the string?"
   ]
  },
  {
   "cell_type": "code",
   "execution_count": 83,
   "id": "b2aa1bda",
   "metadata": {},
   "outputs": [
    {
     "data": {
      "text/plain": [
       "True"
      ]
     },
     "execution_count": 83,
     "metadata": {},
     "output_type": "execute_result"
    }
   ],
   "source": [
    "\"key1\" in {'key1':1, 'key2':2} # is \"key\" in the dictionary? True"
   ]
  },
  {
   "cell_type": "code",
   "execution_count": 84,
   "id": "c08e14c7",
   "metadata": {},
   "outputs": [
    {
     "data": {
      "text/plain": [
       "False"
      ]
     },
     "execution_count": 84,
     "metadata": {},
     "output_type": "execute_result"
    }
   ],
   "source": [
    "\"value1\" in {'key1':1, 'key2':2} # is \"value1\" in the dictionary? False"
   ]
  },
  {
   "cell_type": "markdown",
   "id": "52a8365a",
   "metadata": {},
   "source": [
    "Note that in only works on keys of the dictionary, therefore, we cannot check if a value is in the dictionary this way."
   ]
  },
  {
   "cell_type": "code",
   "execution_count": 85,
   "id": "d0fde03c",
   "metadata": {},
   "outputs": [
    {
     "data": {
      "text/plain": [
       "False"
      ]
     },
     "execution_count": 85,
     "metadata": {},
     "output_type": "execute_result"
    }
   ],
   "source": [
    "1 in {'key1':1, 'key2':2} # is 1 in the dictionary? False"
   ]
  },
  {
   "cell_type": "markdown",
   "id": "c6fb1f31",
   "metadata": {},
   "source": [
    "But, dictionary has two useful methods: values and keys. "
   ]
  },
  {
   "cell_type": "code",
   "execution_count": 86,
   "id": "367f0ec7",
   "metadata": {},
   "outputs": [
    {
     "data": {
      "text/plain": [
       "dict_keys(['key1', 'key2'])"
      ]
     },
     "execution_count": 86,
     "metadata": {},
     "output_type": "execute_result"
    }
   ],
   "source": [
    "{'key1':1, 'key2':2}.keys() # returns a list of the keys found in the dictionary"
   ]
  },
  {
   "cell_type": "code",
   "execution_count": 87,
   "id": "18049811",
   "metadata": {},
   "outputs": [
    {
     "data": {
      "text/plain": [
       "dict_values([1, 2])"
      ]
     },
     "execution_count": 87,
     "metadata": {},
     "output_type": "execute_result"
    }
   ],
   "source": [
    "{'key1':1, 'key2':2}.values() # note that this returns a list of values found in the dictionary"
   ]
  },
  {
   "cell_type": "markdown",
   "id": "721ba5fa",
   "metadata": {},
   "source": [
    "Therefore, if we wish to find if a value is in the disctionary, we can use the values method."
   ]
  },
  {
   "cell_type": "code",
   "execution_count": 88,
   "id": "12a9bdb9",
   "metadata": {},
   "outputs": [
    {
     "data": {
      "text/plain": [
       "True"
      ]
     },
     "execution_count": 88,
     "metadata": {},
     "output_type": "execute_result"
    }
   ],
   "source": [
    "1 in {'key1':1, 'key2':2}.values() # is 1 in the set of dictionary values? True"
   ]
  },
  {
   "cell_type": "markdown",
   "id": "1f7fe27b-e891-402a-8b29-3aa8d5f91a58",
   "metadata": {
    "tags": []
   },
   "source": [
    "## 8.0 Functions and Packages"
   ]
  },
  {
   "cell_type": "markdown",
   "id": "7696a1b8",
   "metadata": {},
   "source": [
    "We've only briefly seen the basics of calling a function. In this section, we will look at various functions and packages that are useful for data science.\n",
    "\n",
    "A function is a block of code that performs a specific task. Functions are used to make your code more modular and reusable."
   ]
  },
  {
   "cell_type": "markdown",
   "id": "79733750",
   "metadata": {},
   "source": [
    "### 8.1 Calling Functions (aka using functions)"
   ]
  },
  {
   "cell_type": "markdown",
   "id": "481dd209",
   "metadata": {},
   "source": [
    "You've seen functions in grade school; things like square root, sin, cosine, etc. are all examples of functions. \n",
    "\n",
    "When we use a function in python, we are said to be 'calling' the function. Calling a function requires us to also send 0 or more arguments to the function. "
   ]
  },
  {
   "cell_type": "code",
   "execution_count": 89,
   "id": "a658280a-72d7-491c-b9a1-c378fcac81f5",
   "metadata": {},
   "outputs": [
    {
     "data": {
      "text/plain": [
       "int"
      ]
     },
     "execution_count": 89,
     "metadata": {},
     "output_type": "execute_result"
    }
   ],
   "source": [
    "type(1) # \"type\" is a function. \"1\" is an argument. We have 'called' the type function and sent as an argument the value 1"
   ]
  },
  {
   "cell_type": "code",
   "execution_count": 90,
   "id": "d46363c4-e414-4e67-881d-5cb1bc1a8fbb",
   "metadata": {},
   "outputs": [
    {
     "name": "stdout",
     "output_type": "stream",
     "text": [
      "[123, 2, 3]\n"
     ]
    }
   ],
   "source": [
    "print(a_list_1) # prints the list"
   ]
  },
  {
   "cell_type": "code",
   "execution_count": 91,
   "id": "fcdc72bf-4f0c-42d2-bf3a-852e992d591c",
   "metadata": {},
   "outputs": [
    {
     "name": "stdout",
     "output_type": "stream",
     "text": [
      "123\n"
     ]
    }
   ],
   "source": [
    "print(max(a_list_1))  # prints the maximum value in the list "
   ]
  },
  {
   "cell_type": "code",
   "execution_count": 92,
   "id": "b75c108c-3040-43ca-8c14-381e62caefc4",
   "metadata": {},
   "outputs": [
    {
     "name": "stdout",
     "output_type": "stream",
     "text": [
      "2\n"
     ]
    }
   ],
   "source": [
    "print(min(a_list_1)) # prints the minimum value in the list"
   ]
  },
  {
   "cell_type": "code",
   "execution_count": 93,
   "id": "62bb4a4d-b309-4f30-8791-6e8a37addc61",
   "metadata": {},
   "outputs": [
    {
     "name": "stdout",
     "output_type": "stream",
     "text": [
      "128\n"
     ]
    }
   ],
   "source": [
    "print(sum(a_list_1)) # prints the sum of the values in the list"
   ]
  },
  {
   "cell_type": "code",
   "execution_count": 94,
   "id": "33cb2f69-d8e3-4f6d-b02e-3a9634b2bf4c",
   "metadata": {},
   "outputs": [
    {
     "name": "stdout",
     "output_type": "stream",
     "text": [
      "3\n"
     ]
    }
   ],
   "source": [
    "print(len(a_list_3)) # prints the length of the list"
   ]
  },
  {
   "cell_type": "code",
   "execution_count": 95,
   "id": "32b026c3-c9df-4f36-b5eb-fd271ede032b",
   "metadata": {},
   "outputs": [
    {
     "name": "stdout",
     "output_type": "stream",
     "text": [
      "67.33333333333333\n"
     ]
    }
   ],
   "source": [
    "print(sum(a_list_2)/len(a_list_3)) # prints the average of the values in the list"
   ]
  },
  {
   "cell_type": "code",
   "execution_count": 96,
   "id": "a4c38ecd-27c0-4ddd-abbd-7bca2c958109",
   "metadata": {},
   "outputs": [
    {
     "name": "stdout",
     "output_type": "stream",
     "text": [
      "0.6666666666666666\n"
     ]
    }
   ],
   "source": [
    "print(2/3) # prints the result of the division, so arguments can be expressions -- the result of the expression is used as the argument"
   ]
  },
  {
   "cell_type": "code",
   "execution_count": 97,
   "id": "a9239b5d-4d38-43e7-8519-3d7c664ac47f",
   "metadata": {},
   "outputs": [
    {
     "name": "stdout",
     "output_type": "stream",
     "text": [
      "0.667\n"
     ]
    }
   ],
   "source": [
    "print(round(2/3, 3)) # prints the result of the division, rounded to 3 decimal places. Notice that the round function takes two arguments"
   ]
  },
  {
   "cell_type": "code",
   "execution_count": 98,
   "id": "419949ec-33ba-4ecc-b62d-bd6f65d40b1f",
   "metadata": {},
   "outputs": [
    {
     "name": "stdout",
     "output_type": "stream",
     "text": [
      "1\n"
     ]
    }
   ],
   "source": [
    "print(round(2/3)) # if sent only one argument, round will round to the nearest integer"
   ]
  },
  {
   "cell_type": "markdown",
   "id": "3b47dd07-fcd0-45e0-982f-f24a0001ed6a",
   "metadata": {},
   "source": [
    "> there are many more python functions, and libraries that contain functions. Google, search the Python documentation, the documentation of a library, etc. And you find more functions!"
   ]
  },
  {
   "cell_type": "markdown",
   "id": "a5d97b79-2433-486e-bd53-4517d697b6ee",
   "metadata": {
    "tags": []
   },
   "source": [
    "### 8.2 Packages (when you wish to use a non-built-in function)"
   ]
  },
  {
   "cell_type": "markdown",
   "id": "367c6bd0",
   "metadata": {},
   "source": [
    "All the functions we've seen thus far are 'builtin' functions. These are functions that are built into the language. \n",
    "\n",
    "Many functions that we will use are not builtin functions. For these functions, we will need to import a package that contains these functions. Some of these packages are included with a standard install of miniconda/anaconda, while others require you to first install them into you python environment before you can use them."
   ]
  },
  {
   "cell_type": "code",
   "execution_count": 99,
   "id": "67e557c7-f5fe-467c-a0c0-3e097073ab53",
   "metadata": {},
   "outputs": [],
   "source": [
    "import math # import the math module. this is part of every python distribution, so you do not need to install it first.\n",
    "\n",
    "x = [1,2]"
   ]
  },
  {
   "cell_type": "markdown",
   "id": "6c72e848-7075-42d1-8f6b-0c84d8e87975",
   "metadata": {},
   "source": [
    "Once you import a package, you can access any of the functions inside this package. Notice below that we need to preceed each of the function calls by the 'math' package name. "
   ]
  },
  {
   "cell_type": "code",
   "execution_count": 100,
   "id": "0ffa8348-b66c-42ea-96ad-14db70148ed9",
   "metadata": {},
   "outputs": [
    {
     "name": "stdout",
     "output_type": "stream",
     "text": [
      "2.0\n",
      "0.8939966636005579\n"
     ]
    }
   ],
   "source": [
    "print(math.sqrt(4))\n",
    "print(math.sin(90))"
   ]
  },
  {
   "cell_type": "markdown",
   "id": "62888437",
   "metadata": {},
   "source": [
    "You can also import only a small portion of a package - such as only one function from the package. "
   ]
  },
  {
   "cell_type": "code",
   "execution_count": 101,
   "id": "f96ad927-8465-448a-a1ab-60634c8bd676",
   "metadata": {},
   "outputs": [
    {
     "name": "stdout",
     "output_type": "stream",
     "text": [
      "0.8939966636005579\n"
     ]
    }
   ],
   "source": [
    "from math import sin\n",
    "\n",
    "print(sin(90)) # notice that now, I don't need to enter math.sin(90)"
   ]
  },
  {
   "cell_type": "markdown",
   "id": "8dd87efc",
   "metadata": {},
   "source": [
    "You can also import everything into your current environment using 'from math import *' - this is not recommended though. When we import the content of a package this way, we are opening up the potential for the names used inside the package coliding with names used in your program. This is because the package contents will now be loaded into your programs namespace. Further discussion of this is out of scope for this quick introduction, but just be aware that though the following is possible, it should be only be used sprangly, if at all. "
   ]
  },
  {
   "cell_type": "code",
   "execution_count": 102,
   "id": "3d817c24-2178-4914-8586-3553120ba2ca",
   "metadata": {},
   "outputs": [
    {
     "name": "stdout",
     "output_type": "stream",
     "text": [
      "0.8939966636005579\n",
      "3.141592653589793\n",
      "2.718281828459045\n"
     ]
    }
   ],
   "source": [
    "from math import *\n",
    "\n",
    "print(sin(90))\n",
    "print(pi)\n",
    "print(e)"
   ]
  },
  {
   "cell_type": "markdown",
   "id": "8f267ffe",
   "metadata": {},
   "source": [
    "Now, up to this point, all the package(s) we've imported have been part of the standard python distribution. But, you can also install packages that are not part of the standard distribution. For example, the package numpy is not part of the standard distribution, but it is very useful for scientific computing. So, we will install it now."
   ]
  },
  {
   "cell_type": "markdown",
   "id": "814d6468",
   "metadata": {},
   "source": [
    "With anaconda, there are two ways to install a package. The first is to use anaconda navigator. In navigation, you click on the 'environment'; then you will see a list of the packages that are installed. You can also search for packages that are not installed and install these.\n",
    "\n",
    "My preferred method (the one you see me use in class) installs packages using the terminal (MacOS) or command prompt (Windows).\n",
    "\n",
    "To install the numpy package using the terminal, you would write the following:\n",
    "\n",
    "conda install numpy\n",
    "\n",
    "Once you successfully install the package, you can now import it and use it in your programs. \n",
    "\n",
    "> NOTE: Numpy is part of the anaconda distribution, but it's not part of the miniconda or standard python distributions. Don't worry about installing a package that is already installed. If you do this, all you will see is a message stating that the package is already installed. This will not damage your installation. "
   ]
  },
  {
   "cell_type": "markdown",
   "id": "c5f8ad76",
   "metadata": {},
   "source": [
    "### 8.3 Creating your own functions\n",
    "\n",
    "What happens when you can't find a function that does what you want? You can write your own function!\n",
    "\n",
    "When calling a function, we pass arguments to the function. When defining a function, we define parameters that will be used within the function. The parameters are assigned the values of the arguments when the function is called.\n",
    "\n",
    "So, the key components of a function are:\n",
    "- The function name\n",
    "- The parameters\n",
    "- The function body\n",
    "- The return statement\n"
   ]
  },
  {
   "cell_type": "code",
   "execution_count": 103,
   "id": "958af23f",
   "metadata": {},
   "outputs": [],
   "source": [
    "def some_fun_1(): # a function with no arguments\n",
    "    return \"hello\"\n",
    "\n",
    "def some_fun_2(s): # a function with one argument\n",
    "    ret_s = s + \" world\"\n",
    "    return ret_s\n",
    "\n",
    "def some_fun_3(s1, s2): # a function with two arguments\n",
    "    return s1 + s2\n",
    "\n",
    "def some_fun_4(first=\"Hello\", second=\"World\"): # a function with two arguments, with default values\n",
    "    return first + \" \" + second\n",
    "\n",
    "def some_fun_5(*args): # define a function that takes an unkown length of arguments\n",
    "    ret_s = \"\"\n",
    "    for s in args:\n",
    "        ret_s += s + \" \"\n",
    "    return ret_s\n",
    "\n",
    "# define a function that takes an unkown length of arguments, with two names parameters with default values\n",
    "def some_fun_6(*args, first=\"Hello\", second=\"World\"):\n",
    "    ret_s = \"\"\n",
    "    for s in args:\n",
    "        ret_s += s + \" \"\n",
    "    return first + \" \" + second + \" \" + ret_s\n",
    "\n",
    "# defined a function that accepts an unkown length of named arguments\n",
    "def some_fun_7(**kwargs):\n",
    "    ret_s = \"\"\n",
    "    for key, value in kwargs.items():\n",
    "        ret_s += key + \" \" + value + \" \"\n",
    "    return ret_s"
   ]
  },
  {
   "cell_type": "code",
   "execution_count": 104,
   "id": "97761a42",
   "metadata": {},
   "outputs": [
    {
     "name": "stdout",
     "output_type": "stream",
     "text": [
      "hello\n",
      "This is a string world\n",
      "This is a stringand Another\n",
      "Hello Student\n",
      "This is a string and another second=Student \n",
      "Hello Student This is a string and another \n"
     ]
    }
   ],
   "source": [
    "print(some_fun_1())\n",
    "print(some_fun_2(\"This is a string\"))\n",
    "print(some_fun_3(\"This is a string\", \"and Another\")) \n",
    "print(some_fun_4(second=\"Student\"))\n",
    "print(some_fun_5(\"This is a string\", \"and another\", \"second=\"\"Student\"))\n",
    "print(some_fun_6(\"This is a string\", \"and another\", second=\"Student\"))"
   ]
  },
  {
   "cell_type": "code",
   "execution_count": 105,
   "id": "b959ad4f",
   "metadata": {},
   "outputs": [],
   "source": [
    "# print(some_fun_3(\"This is a string\", 3)) # this will produce an error, as the second argument is not a string and our function expects a string\n",
    "# print(some_fun_5(name=\"John\")) # this will produce an error, because we've named the parameter, and we expected a list\n",
    "# print(some_fun_1(\"A string\")) # this will produce and error, because the function hase no parameter, and we've passed one argument"
   ]
  },
  {
   "cell_type": "markdown",
   "id": "12c66f5a-9b6d-4658-a83c-84bb057c42b3",
   "metadata": {},
   "source": [
    "## 9.0 Logic, Control Flow and Filtering"
   ]
  },
  {
   "cell_type": "markdown",
   "id": "2ef8760e",
   "metadata": {},
   "source": [
    "An import aspect of programming is controlling the flow of execution of the program. Everthing we've seen thus far is what we call sequential order; that is, the program runs line-by-line from top to bottom. \n",
    "\n",
    "There are times though that we want to change this flow of execution. For instance, if we want to test a condition and if it's true do one thing, otherwise do another. Or, we may with to repeat something a number of times. "
   ]
  },
  {
   "cell_type": "markdown",
   "id": "56432f24-a4dc-41f8-b480-3da90aeb49e2",
   "metadata": {},
   "source": [
    "### 9.1 Selection: if, elif, else "
   ]
  },
  {
   "cell_type": "markdown",
   "id": "b1a7b131",
   "metadata": {},
   "source": [
    "Based on a condition, we can choose to run a block of code or not."
   ]
  },
  {
   "cell_type": "code",
   "execution_count": 106,
   "id": "8fb0579d",
   "metadata": {},
   "outputs": [
    {
     "name": "stdout",
     "output_type": "stream",
     "text": [
      "num is 3\n",
      "num is still 3\n",
      "code is done\n"
     ]
    }
   ],
   "source": [
    "num = 3\n",
    "if num == 3:\n",
    "    print(\"num is 3\")\n",
    "    print(\"num is still 3\") # notice that this line is indented, so it is part of the if statement\n",
    "print(\"code is done\")"
   ]
  },
  {
   "cell_type": "markdown",
   "id": "3b7bd286",
   "metadata": {},
   "source": [
    "As we should notice in the above code, the if structure is controlling if a number of lines of code run or not. To indicate 'what is inside' this block, we indent these lines under the if statement. \n",
    "\n",
    "A block can consist of any valid python code, for instance, even other if blocks."
   ]
  },
  {
   "cell_type": "code",
   "execution_count": 107,
   "id": "1de79f05-39bc-49c5-b266-4dbe186b1df6",
   "metadata": {},
   "outputs": [
    {
     "name": "stdout",
     "output_type": "stream",
     "text": [
      "num1 value is even\n",
      "num 1is still even\n",
      "code is done\n"
     ]
    }
   ],
   "source": [
    "num1 = 4\n",
    "num2 = 2\n",
    "if num1 % 2 == 0:\n",
    "    print(\"num1 value is even\")\n",
    "    num1 = num1 + num2 # notice that this line is indented, so it is part of the first if statement\n",
    "    if num1 % 2 == 0:\n",
    "        print(\"num 1is still even\")  # notice that this line is indented, so it is part of the second if statement\n",
    "print(\"code is done\")\n",
    "    "
   ]
  },
  {
   "cell_type": "markdown",
   "id": "2553c4b2",
   "metadata": {},
   "source": [
    "There are often times when we want to decide if we want to run one block of code, or another. In such situations, we can use the if/else structure."
   ]
  },
  {
   "cell_type": "code",
   "execution_count": 108,
   "id": "37d8eaa8",
   "metadata": {},
   "outputs": [
    {
     "name": "stdout",
     "output_type": "stream",
     "text": [
      "num is odd\n",
      "code is done\n"
     ]
    }
   ],
   "source": [
    "num = 3\n",
    "if num % 2 == 0:\n",
    "    print(\"num is even\")\n",
    "else:\n",
    "    print(\"num is odd\")\n",
    "print(\"code is done\")"
   ]
  },
  {
   "cell_type": "markdown",
   "id": "ce951406",
   "metadata": {},
   "source": [
    "Note that we could have accomplished the same outcome if we wrote the above code as follows:"
   ]
  },
  {
   "cell_type": "code",
   "execution_count": 109,
   "id": "0c8e0014",
   "metadata": {},
   "outputs": [
    {
     "name": "stdout",
     "output_type": "stream",
     "text": [
      "num is odd\n",
      "code is done\n"
     ]
    }
   ],
   "source": [
    "num = 3\n",
    "if num % 2 != 0:\n",
    "    print(\"num is odd\")\n",
    "else:\n",
    "    print(\"num is even\")\n",
    "print(\"code is done\")"
   ]
  },
  {
   "cell_type": "markdown",
   "id": "784fc855",
   "metadata": {},
   "source": [
    "There are times when we need a more complex set of tests in order to determin which block of code to select for runnning. For instance, if we have three different blocks, and have to choose one to run, we can use an if/elif/else structure."
   ]
  },
  {
   "cell_type": "code",
   "execution_count": 110,
   "id": "4590463e-ee62-44a7-b903-b7cb2a04f438",
   "metadata": {},
   "outputs": [
    {
     "name": "stdout",
     "output_type": "stream",
     "text": [
      "liquid\n"
     ]
    }
   ],
   "source": [
    "temp = 35\n",
    "\n",
    "if temp > 212:\n",
    "    print('gas')\n",
    "elif temp > 32:\n",
    "    print('liquid')\n",
    "else:\n",
    "    print('solid')\n"
   ]
  },
  {
   "cell_type": "markdown",
   "id": "4cbcdee0-1eff-49a6-ab30-6cd7e7316b4b",
   "metadata": {},
   "source": [
    "### 9.2 Iteration: While and For Loops"
   ]
  },
  {
   "cell_type": "markdown",
   "id": "d0100873-80a2-4f34-986c-121bce66f295",
   "metadata": {},
   "source": [
    "#### 9.2.1 While loop"
   ]
  },
  {
   "cell_type": "code",
   "execution_count": 111,
   "id": "531c87f7-c0f8-4ce1-a6d7-0fe8ca2eeccc",
   "metadata": {},
   "outputs": [
    {
     "name": "stdout",
     "output_type": "stream",
     "text": [
      "10 9 8 7 6 5 4 3 2 1 !Blastoff!\n"
     ]
    }
   ],
   "source": [
    "x = 10 # initialization\n",
    "while x > 0: # check\n",
    "    print(x, end=' ')\n",
    "    x -= 1 # update\n",
    "print('!Blastoff!')"
   ]
  },
  {
   "cell_type": "markdown",
   "id": "0d6d53f5-437b-4af3-ade1-461f52e5ee43",
   "metadata": {},
   "source": [
    "#### 9.2.2 For loops using the range function"
   ]
  },
  {
   "cell_type": "markdown",
   "id": "25018395",
   "metadata": {},
   "source": [
    "For for loop is the most common loop you will use in machine learning. \n",
    "\n",
    "A for loop in python 'iteratates' (repeats) through a number of values. For each iteration the next value in a set of values is selects and stored in a variable. \n",
    "\n",
    "The range function is called an 'iterable' function, and it returns an iterable object that provides a list of numbers; one at a time. \n",
    "\n",
    "In the following code, the range function is creating a range of values from 0 through to 9 (0 up to by not including 10). The for loop will iterate over these values processing them one at a time by storing a value in x."
   ]
  },
  {
   "cell_type": "code",
   "execution_count": 112,
   "id": "7731c81e-accf-4154-904b-71bf8ddd429b",
   "metadata": {},
   "outputs": [
    {
     "name": "stdout",
     "output_type": "stream",
     "text": [
      "0 1 2 3 4 5 6 7 8 9 "
     ]
    }
   ],
   "source": [
    "for x in range(10):\n",
    "    print(x, end = ' ') # notice that the end argument is used to print the values on the same line"
   ]
  },
  {
   "cell_type": "markdown",
   "id": "82a45f39",
   "metadata": {},
   "source": [
    "The **range function** is quite versatile, and will allow us to create many different sequences of integers. \n",
    "\n",
    "If we sent two arguments to the range function, the first argument is the starting number. The second number is the stopping number. A range function will start at the starting number and go up to be not include the stopping number. "
   ]
  },
  {
   "cell_type": "code",
   "execution_count": 113,
   "id": "2e7eb675-054c-40a8-8f92-f9308d4ae08a",
   "metadata": {},
   "outputs": [
    {
     "name": "stdout",
     "output_type": "stream",
     "text": [
      "2 3 4 5 6 7 8 9 "
     ]
    }
   ],
   "source": [
    "for x in range(2,10):\n",
    "    print(x, end=' ')"
   ]
  },
  {
   "cell_type": "markdown",
   "id": "4361d941",
   "metadata": {},
   "source": [
    "If we provide the range function a 3rd arguement, this arguement will be the increment - that is, how much the values increase."
   ]
  },
  {
   "cell_type": "code",
   "execution_count": 114,
   "id": "63e437ce-732c-404b-b013-ae0f2a7dd989",
   "metadata": {},
   "outputs": [
    {
     "name": "stdout",
     "output_type": "stream",
     "text": [
      "2 5 8 11 14 17 20 23 26 29 32 35 38 41 44 47 50 53 56 59 62 65 68 71 74 77 80 83 86 89 92 95 98 101 104 107 110 113 116 119 "
     ]
    }
   ],
   "source": [
    "for x in range(2,120,3):\n",
    "    print(x, end=' ')"
   ]
  },
  {
   "cell_type": "markdown",
   "id": "d03fdebb",
   "metadata": {},
   "source": [
    "#### 3.2.2 For loops over the values of a list"
   ]
  },
  {
   "cell_type": "markdown",
   "id": "86651827",
   "metadata": {},
   "source": [
    "The for loop can also iterator over various compositive variable types. One of the more common is to iterate over all the values in a list."
   ]
  },
  {
   "cell_type": "code",
   "execution_count": 115,
   "id": "cab16134-b583-468c-9d5f-44b965f1eb00",
   "metadata": {},
   "outputs": [
    {
     "name": "stdout",
     "output_type": "stream",
     "text": [
      "1 12 4 5 3 4 "
     ]
    }
   ],
   "source": [
    "for x in [1,12,4,5,3,4]: # notice that the list can be in any order\n",
    "    print(x, end=' ') # notice that the end argument is used to print the values on the same line"
   ]
  },
  {
   "cell_type": "code",
   "execution_count": 116,
   "id": "24ecba73",
   "metadata": {},
   "outputs": [
    {
     "name": "stdout",
     "output_type": "stream",
     "text": [
      "first second 3.14 6 "
     ]
    }
   ],
   "source": [
    "a_list = ['first', 'second', 3.14, 6] # a list of values\n",
    "for x in a_list: # for each value in the list\n",
    "    print(x, end=' ') # print the value ( By default, print prints a new line at the end of the line. The end argument is used to change this behavior)"
   ]
  },
  {
   "cell_type": "markdown",
   "id": "4ba24c3a",
   "metadata": {},
   "source": [
    "To get the value from the list along with index, we can use the enumerate function."
   ]
  },
  {
   "cell_type": "code",
   "execution_count": 117,
   "id": "84b64e2c-edb4-4422-9333-cceb76f33c7a",
   "metadata": {},
   "outputs": [
    {
     "name": "stdout",
     "output_type": "stream",
     "text": [
      "index 0: 1.73\n",
      "index 1: 1.68\n",
      "index 2: 1.71\n",
      "index 3: 1.89\n"
     ]
    }
   ],
   "source": [
    "fam = [1.73, 1.68, 1.71, 1.89]\n",
    "for index, height in enumerate(fam): # notice that enumerate returns a tuple of the index and the value\n",
    "    print(f\"index {index}: {height}\") # notice that we can use f-strings to print the index and the value"
   ]
  },
  {
   "cell_type": "markdown",
   "id": "7a5190c9",
   "metadata": {},
   "source": [
    "#### 9.2.3 For loops with strings"
   ]
  },
  {
   "cell_type": "code",
   "execution_count": 118,
   "id": "466aa190-8494-43a6-9931-fba11a354e41",
   "metadata": {},
   "outputs": [
    {
     "name": "stdout",
     "output_type": "stream",
     "text": [
      "H,e,l,l,o, ,w,o,r,l,d,"
     ]
    }
   ],
   "source": [
    "phrase = \"Hello world\" # a string\n",
    "for ch in phrase: # for each character in the string\n",
    "    print(ch, end = ',') # print the character. By default, print prints a new line at the end of the line. The end argument is used to change this behavior\n",
    "    "
   ]
  },
  {
   "cell_type": "code",
   "execution_count": 119,
   "id": "7013868d",
   "metadata": {},
   "outputs": [
    {
     "name": "stdout",
     "output_type": "stream",
     "text": [
      "A, b, r, a, c, a, d, a, b, r, a"
     ]
    }
   ],
   "source": [
    "word = \"Abracadabra\"\n",
    "for i, ch in enumerate(word): # notice that enumerate returns a tuple of the index and the value\n",
    "    if i < len(word)-1: # notice that we are using the index to check if we are at the end of the string\n",
    "        print(ch, end = ', ') # here, we are not at the end of the string\n",
    "    else:\n",
    "        print(ch, end = '') # here, we are at the end of the string\n",
    "    "
   ]
  },
  {
   "cell_type": "markdown",
   "id": "6a287f03-9e30-45a8-8b6a-37e5be0e9396",
   "metadata": {},
   "source": [
    "#### 9.2.4 For Loop over a dictionary"
   ]
  },
  {
   "cell_type": "code",
   "execution_count": 120,
   "id": "15ae533e-f17c-4a19-a730-824592766fc8",
   "metadata": {},
   "outputs": [],
   "source": [
    "data_dict = {\n",
    "    \n",
    "    'area' : [8.516, 17.100, 3.286, 9.597, 1.221],\n",
    "    'capital' :  ['Brasilia', 'Moscow', 'New Delhi', 'Beinging', 'Pretoria'],\n",
    "    'country' : ['Brazil', 'Russia', 'India', 'China', 'South Africa'],\n",
    "    'population' : [200.40, 143.50, 1252.00, 1357.00, 52.98]\n",
    "}\n"
   ]
  },
  {
   "cell_type": "code",
   "execution_count": 121,
   "id": "5a18d47f-2636-4f86-a2bf-631c75e8bf0a",
   "metadata": {},
   "outputs": [
    {
     "name": "stdout",
     "output_type": "stream",
     "text": [
      "area\n",
      "capital\n",
      "country\n",
      "population\n"
     ]
    }
   ],
   "source": [
    "for key in data_dict:\n",
    "    print(key)"
   ]
  },
  {
   "cell_type": "code",
   "execution_count": 122,
   "id": "b98564ec-e947-4d2b-9d61-9bc91bd8c619",
   "metadata": {},
   "outputs": [
    {
     "name": "stdout",
     "output_type": "stream",
     "text": [
      "[8.516, 17.1, 3.286, 9.597, 1.221]\n",
      "['Brasilia', 'Moscow', 'New Delhi', 'Beinging', 'Pretoria']\n",
      "['Brazil', 'Russia', 'India', 'China', 'South Africa']\n",
      "[200.4, 143.5, 1252.0, 1357.0, 52.98]\n"
     ]
    }
   ],
   "source": [
    "for key in data_dict:\n",
    "    print(data_dict[key])"
   ]
  },
  {
   "cell_type": "code",
   "execution_count": 123,
   "id": "0f434887-b7f1-4c1d-a90a-8ab86a7a29d4",
   "metadata": {},
   "outputs": [
    {
     "name": "stdout",
     "output_type": "stream",
     "text": [
      "area:[8.516, 17.1, 3.286, 9.597, 1.221]\n",
      "capital:['Brasilia', 'Moscow', 'New Delhi', 'Beinging', 'Pretoria']\n",
      "country:['Brazil', 'Russia', 'India', 'China', 'South Africa']\n",
      "population:[200.4, 143.5, 1252.0, 1357.0, 52.98]\n"
     ]
    }
   ],
   "source": [
    "for key, val in data_dict.items():\n",
    "    print(f\"{key}:{val}\")"
   ]
  },
  {
   "cell_type": "markdown",
   "id": "9989a39f",
   "metadata": {},
   "source": [
    "## 10.0 X Comprehensions"
   ]
  },
  {
   "cell_type": "markdown",
   "id": "61d0ed68",
   "metadata": {},
   "source": [
    "### 10.1 List Comprehensions"
   ]
  },
  {
   "cell_type": "markdown",
   "id": "48412964",
   "metadata": {},
   "source": [
    "List comprehensions are used often in data analytics. These are a compact way to create a list. The syntax is as follows:\n",
    "\n",
    "[expression for item in list]\n",
    "\n",
    "The expression is applied to each item in the list. The result is a new list.\n",
    "\n",
    "For example, suppose we have a list of numbers and we want to create a new list that contains the square of each number in the original list. We can do this with a list comprehension.\n"
   ]
  },
  {
   "cell_type": "code",
   "execution_count": 124,
   "id": "12656c02",
   "metadata": {},
   "outputs": [],
   "source": [
    "# use a list comprehension to create a list of the first 10 square numbers\n",
    "squares = [x**2 for x in range(1,11)]\n",
    "\n",
    "# use a list comprehension to square each number in an existing list\n",
    "numbers = [1,2,3,4,5,6,7,8,9,10]\n",
    "squares = [x**2 for x in numbers]\n",
    "\n",
    "# use a list comprehension that will square each odd number found in a list\n",
    "numbers = [1,2,3,4,5,6,7,8,9,10]\n",
    "squares = [x**2 for x in numbers if x%2 != 0]\n",
    "\n",
    "# use a list comprehension to create a list of lists, where each inner list contains a pair of numbers. The first number is the original number from a list, and the second number is a square of that number.\n",
    "numbers = [1,2,3,4,5,6,7,8,9,10]\n",
    "squares = [[x,x**2] for x in numbers]\n",
    "\n",
    "# create a list of random numbers between 0 and 100\n",
    "import random\n",
    "random_numbers = [random.randint(0,100) for x in range(10)]\n",
    "\n",
    "# create a list of random number drawn from a normal distribution with mean 0 and standard deviation 1\n",
    "import random\n",
    "random_numbers = [random.normalvariate(0,1) for x in range(10)]\n",
    "\n",
    "# create a list of random numbers drawn from a normal distribution with mean 10 and standard deviation 1 with 3 decimal places\n",
    "import random\n",
    "random_numbers = [round(random.normalvariate(10,1),3) for x in range(10)]\n",
    "\n",
    "\n"
   ]
  },
  {
   "cell_type": "markdown",
   "id": "19b40993",
   "metadata": {},
   "source": [
    "### 10.2 Dictionary Comprehension\n",
    "\n",
    "Dictionary comprehension is similar to list comprehension, but it constructs a dictionary instead of a list.\n",
    "\n",
    "```python\n",
    "Syntax:\n",
    "  {key:value for (key,value) in iterable}\n",
    "``````\n"
   ]
  },
  {
   "cell_type": "code",
   "execution_count": 125,
   "id": "e65cf3aa",
   "metadata": {},
   "outputs": [
    {
     "data": {
      "text/plain": [
       "{1: 1, 2: 4, 3: 9, 4: 16, 5: 25, 6: 36, 7: 49, 8: 64, 9: 81, 10: 100}"
      ]
     },
     "execution_count": 125,
     "metadata": {},
     "output_type": "execute_result"
    }
   ],
   "source": [
    "# Create a dictionary with the squares of the numbers from 1 to 10\n",
    "squares = {x:x**2 for x in range(1,11)}\n",
    "\n",
    "squares"
   ]
  },
  {
   "cell_type": "markdown",
   "id": "dafdc28d",
   "metadata": {},
   "source": [
    "## 11.0 Lambda Functions\n",
    "\n",
    "Lambda functions are anonymous functions that are used to create a function without a name. They are also known as inline functions. They are used to create a function that is used only once. They are generally used with the filter(), map() and reduce() functions.\n"
   ]
  },
  {
   "cell_type": "code",
   "execution_count": null,
   "id": "179ae9e8",
   "metadata": {},
   "outputs": [],
   "source": [
    "# lambda function to filter out even numbers\n",
    "\n",
    "# filter() function takes in a function and a list as arguments\n",
    "# filter() returns an iterator consisting of the elements from the original iterable for which the function returns True\n",
    "\n",
    "# filter() is equivalent to:\n",
    "#      [item for item in iterable if function(item)]\n",
    "\n",
    "# filter() is useful when you need to apply a transformation function to each item in an iterable and then filter out certain results\n",
    "\n",
    "Examples:\n",
    "    \n",
    "# filter out even numbers\n",
    "list(filter(lambda x: x % 2 == 0, range(1, 11)))\n",
    "\n",
    "# filter out odd numbers\n",
    "\n",
    "list(filter(lambda x: x % 2 == 1, range(1, 11)))\n",
    "\n",
    "# filter out numbers greater than 5\n",
    "\n",
    "list(filter(lambda x: x > 5, range(1, 11)))\n"
   ]
  },
  {
   "cell_type": "code",
   "execution_count": null,
   "id": "799de33e",
   "metadata": {},
   "outputs": [],
   "source": [
    "# lambda function to map a list of numbers to their squares\n",
    "\n",
    "# define a list of numbers\n",
    "nums = [1, 2, 3, 4, 5]\n",
    "\n",
    "# define a lambda function to square a number\n",
    "square = lambda x: x**2\n",
    "\n",
    "# map the lambda function to the list of numbers\n",
    "squared_nums = map(square, nums)\n",
    "\n",
    "# print the list of squared numbers\n",
    "print(list(squared_nums))"
   ]
  }
 ],
 "metadata": {
  "kernelspec": {
   "display_name": "Python 3 (ipykernel)",
   "language": "python",
   "name": "python3"
  },
  "language_info": {
   "codemirror_mode": {
    "name": "ipython",
    "version": 3
   },
   "file_extension": ".py",
   "mimetype": "text/x-python",
   "name": "python",
   "nbconvert_exporter": "python",
   "pygments_lexer": "ipython3",
   "version": "3.11.4"
  },
  "vscode": {
   "interpreter": {
    "hash": "b056086e24cb5602cbcb82122035cd3d6ee2ccbf5df29c16e348c108b0f83be3"
   }
  }
 },
 "nbformat": 4,
 "nbformat_minor": 5
}
